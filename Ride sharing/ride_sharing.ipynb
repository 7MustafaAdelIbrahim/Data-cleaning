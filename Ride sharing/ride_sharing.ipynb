{
  "nbformat": 4,
  "nbformat_minor": 0,
  "metadata": {
    "colab": {
      "name": "ride sharing.ipynb",
      "provenance": [],
      "collapsed_sections": []
    },
    "kernelspec": {
      "name": "python3",
      "display_name": "Python 3"
    },
    "language_info": {
      "name": "python"
    }
  },
  "cells": [
    {
      "cell_type": "code",
      "metadata": {
        "colab": {
          "resources": {
            "http://localhost:8080/nbextensions/google.colab/files.js": {
              "data": "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",
              "ok": true,
              "headers": [
                [
                  "content-type",
                  "application/javascript"
                ]
              ],
              "status": 200,
              "status_text": ""
            }
          },
          "base_uri": "https://localhost:8080/",
          "height": 73
        },
        "id": "iTKVehsEz3KU",
        "outputId": "33f1ec79-bcaf-4608-dcee-8b1549b8bbac"
      },
      "source": [
        "from google.colab import files\n",
        "uploaded = files.upload()"
      ],
      "execution_count": 1,
      "outputs": [
        {
          "output_type": "display_data",
          "data": {
            "text/html": [
              "\n",
              "     <input type=\"file\" id=\"files-d6e9daf6-e1af-4fba-85fa-2a91a165378c\" name=\"files[]\" multiple disabled\n",
              "        style=\"border:none\" />\n",
              "     <output id=\"result-d6e9daf6-e1af-4fba-85fa-2a91a165378c\">\n",
              "      Upload widget is only available when the cell has been executed in the\n",
              "      current browser session. Please rerun this cell to enable.\n",
              "      </output>\n",
              "      <script src=\"/nbextensions/google.colab/files.js\"></script> "
            ],
            "text/plain": [
              "<IPython.core.display.HTML object>"
            ]
          },
          "metadata": {}
        },
        {
          "output_type": "stream",
          "name": "stdout",
          "text": [
            "Saving ride_sharing.csv to ride_sharing.csv\n"
          ]
        }
      ]
    },
    {
      "cell_type": "code",
      "metadata": {
        "id": "Ga5qm1vX0_e_"
      },
      "source": [
        "import pandas as pd # Data processing\n",
        "import numpy as np  # Linear algebra\n",
        "\n",
        "import matplotlib.pyplot as plt # Data visualization\n",
        "import seaborn as sns  # Data visualization \n",
        "from wordcloud import WordCloud # Visualizing words and string\n",
        "\n",
        "import re  # Regular expressions"
      ],
      "execution_count": 2,
      "outputs": []
    },
    {
      "cell_type": "code",
      "metadata": {
        "colab": {
          "base_uri": "https://localhost:8080/",
          "height": 354
        },
        "id": "24Nr3vah1R78",
        "outputId": "94cac244-29ad-4185-8f2a-d8e37f2aa709"
      },
      "source": [
        "# read our dataset.\n",
        "data = pd.read_csv(\"ride_sharing.csv\")\n",
        "data.head()"
      ],
      "execution_count": 3,
      "outputs": [
        {
          "output_type": "execute_result",
          "data": {
            "text/html": [
              "\n",
              "  <div id=\"df-59ee7bc2-28a9-444d-abca-4916a7c972c3\">\n",
              "    <div class=\"colab-df-container\">\n",
              "      <div>\n",
              "<style scoped>\n",
              "    .dataframe tbody tr th:only-of-type {\n",
              "        vertical-align: middle;\n",
              "    }\n",
              "\n",
              "    .dataframe tbody tr th {\n",
              "        vertical-align: top;\n",
              "    }\n",
              "\n",
              "    .dataframe thead th {\n",
              "        text-align: right;\n",
              "    }\n",
              "</style>\n",
              "<table border=\"1\" class=\"dataframe\">\n",
              "  <thead>\n",
              "    <tr style=\"text-align: right;\">\n",
              "      <th></th>\n",
              "      <th>Unnamed: 0</th>\n",
              "      <th>duration</th>\n",
              "      <th>station_A_id</th>\n",
              "      <th>station_A_name</th>\n",
              "      <th>station_B_id</th>\n",
              "      <th>station_B_name</th>\n",
              "      <th>bike_id</th>\n",
              "      <th>user_type</th>\n",
              "      <th>user_birth_year</th>\n",
              "      <th>user_gender</th>\n",
              "    </tr>\n",
              "  </thead>\n",
              "  <tbody>\n",
              "    <tr>\n",
              "      <th>0</th>\n",
              "      <td>0</td>\n",
              "      <td>12 minutes</td>\n",
              "      <td>81</td>\n",
              "      <td>Berry St at 4th St</td>\n",
              "      <td>323</td>\n",
              "      <td>Broadway at Kearny</td>\n",
              "      <td>5480</td>\n",
              "      <td>2</td>\n",
              "      <td>1959</td>\n",
              "      <td>Male</td>\n",
              "    </tr>\n",
              "    <tr>\n",
              "      <th>1</th>\n",
              "      <td>1</td>\n",
              "      <td>24 minutes</td>\n",
              "      <td>3</td>\n",
              "      <td>Powell St BART Station (Market St at 4th St)</td>\n",
              "      <td>118</td>\n",
              "      <td>Eureka Valley Recreation Center</td>\n",
              "      <td>5193</td>\n",
              "      <td>2</td>\n",
              "      <td>1965</td>\n",
              "      <td>Male</td>\n",
              "    </tr>\n",
              "    <tr>\n",
              "      <th>2</th>\n",
              "      <td>2</td>\n",
              "      <td>8 minutes</td>\n",
              "      <td>67</td>\n",
              "      <td>San Francisco Caltrain Station 2  (Townsend St...</td>\n",
              "      <td>23</td>\n",
              "      <td>The Embarcadero at Steuart St</td>\n",
              "      <td>3652</td>\n",
              "      <td>3</td>\n",
              "      <td>1993</td>\n",
              "      <td>Male</td>\n",
              "    </tr>\n",
              "    <tr>\n",
              "      <th>3</th>\n",
              "      <td>3</td>\n",
              "      <td>4 minutes</td>\n",
              "      <td>16</td>\n",
              "      <td>Steuart St at Market St</td>\n",
              "      <td>28</td>\n",
              "      <td>The Embarcadero at Bryant St</td>\n",
              "      <td>1883</td>\n",
              "      <td>1</td>\n",
              "      <td>1979</td>\n",
              "      <td>Male</td>\n",
              "    </tr>\n",
              "    <tr>\n",
              "      <th>4</th>\n",
              "      <td>4</td>\n",
              "      <td>11 minutes</td>\n",
              "      <td>22</td>\n",
              "      <td>Howard St at Beale St</td>\n",
              "      <td>350</td>\n",
              "      <td>8th St at Brannan St</td>\n",
              "      <td>4626</td>\n",
              "      <td>2</td>\n",
              "      <td>1994</td>\n",
              "      <td>Male</td>\n",
              "    </tr>\n",
              "  </tbody>\n",
              "</table>\n",
              "</div>\n",
              "      <button class=\"colab-df-convert\" onclick=\"convertToInteractive('df-59ee7bc2-28a9-444d-abca-4916a7c972c3')\"\n",
              "              title=\"Convert this dataframe to an interactive table.\"\n",
              "              style=\"display:none;\">\n",
              "        \n",
              "  <svg xmlns=\"http://www.w3.org/2000/svg\" height=\"24px\"viewBox=\"0 0 24 24\"\n",
              "       width=\"24px\">\n",
              "    <path d=\"M0 0h24v24H0V0z\" fill=\"none\"/>\n",
              "    <path d=\"M18.56 5.44l.94 2.06.94-2.06 2.06-.94-2.06-.94-.94-2.06-.94 2.06-2.06.94zm-11 1L8.5 8.5l.94-2.06 2.06-.94-2.06-.94L8.5 2.5l-.94 2.06-2.06.94zm10 10l.94 2.06.94-2.06 2.06-.94-2.06-.94-.94-2.06-.94 2.06-2.06.94z\"/><path d=\"M17.41 7.96l-1.37-1.37c-.4-.4-.92-.59-1.43-.59-.52 0-1.04.2-1.43.59L10.3 9.45l-7.72 7.72c-.78.78-.78 2.05 0 2.83L4 21.41c.39.39.9.59 1.41.59.51 0 1.02-.2 1.41-.59l7.78-7.78 2.81-2.81c.8-.78.8-2.07 0-2.86zM5.41 20L4 18.59l7.72-7.72 1.47 1.35L5.41 20z\"/>\n",
              "  </svg>\n",
              "      </button>\n",
              "      \n",
              "  <style>\n",
              "    .colab-df-container {\n",
              "      display:flex;\n",
              "      flex-wrap:wrap;\n",
              "      gap: 12px;\n",
              "    }\n",
              "\n",
              "    .colab-df-convert {\n",
              "      background-color: #E8F0FE;\n",
              "      border: none;\n",
              "      border-radius: 50%;\n",
              "      cursor: pointer;\n",
              "      display: none;\n",
              "      fill: #1967D2;\n",
              "      height: 32px;\n",
              "      padding: 0 0 0 0;\n",
              "      width: 32px;\n",
              "    }\n",
              "\n",
              "    .colab-df-convert:hover {\n",
              "      background-color: #E2EBFA;\n",
              "      box-shadow: 0px 1px 2px rgba(60, 64, 67, 0.3), 0px 1px 3px 1px rgba(60, 64, 67, 0.15);\n",
              "      fill: #174EA6;\n",
              "    }\n",
              "\n",
              "    [theme=dark] .colab-df-convert {\n",
              "      background-color: #3B4455;\n",
              "      fill: #D2E3FC;\n",
              "    }\n",
              "\n",
              "    [theme=dark] .colab-df-convert:hover {\n",
              "      background-color: #434B5C;\n",
              "      box-shadow: 0px 1px 3px 1px rgba(0, 0, 0, 0.15);\n",
              "      filter: drop-shadow(0px 1px 2px rgba(0, 0, 0, 0.3));\n",
              "      fill: #FFFFFF;\n",
              "    }\n",
              "  </style>\n",
              "\n",
              "      <script>\n",
              "        const buttonEl =\n",
              "          document.querySelector('#df-59ee7bc2-28a9-444d-abca-4916a7c972c3 button.colab-df-convert');\n",
              "        buttonEl.style.display =\n",
              "          google.colab.kernel.accessAllowed ? 'block' : 'none';\n",
              "\n",
              "        async function convertToInteractive(key) {\n",
              "          const element = document.querySelector('#df-59ee7bc2-28a9-444d-abca-4916a7c972c3');\n",
              "          const dataTable =\n",
              "            await google.colab.kernel.invokeFunction('convertToInteractive',\n",
              "                                                     [key], {});\n",
              "          if (!dataTable) return;\n",
              "\n",
              "          const docLinkHtml = 'Like what you see? Visit the ' +\n",
              "            '<a target=\"_blank\" href=https://colab.research.google.com/notebooks/data_table.ipynb>data table notebook</a>'\n",
              "            + ' to learn more about interactive tables.';\n",
              "          element.innerHTML = '';\n",
              "          dataTable['output_type'] = 'display_data';\n",
              "          await google.colab.output.renderOutput(dataTable, element);\n",
              "          const docLink = document.createElement('div');\n",
              "          docLink.innerHTML = docLinkHtml;\n",
              "          element.appendChild(docLink);\n",
              "        }\n",
              "      </script>\n",
              "    </div>\n",
              "  </div>\n",
              "  "
            ],
            "text/plain": [
              "   Unnamed: 0    duration  station_A_id  ... user_type  user_birth_year user_gender\n",
              "0           0  12 minutes            81  ...         2             1959        Male\n",
              "1           1  24 minutes             3  ...         2             1965        Male\n",
              "2           2   8 minutes            67  ...         3             1993        Male\n",
              "3           3   4 minutes            16  ...         1             1979        Male\n",
              "4           4  11 minutes            22  ...         2             1994        Male\n",
              "\n",
              "[5 rows x 10 columns]"
            ]
          },
          "metadata": {},
          "execution_count": 3
        }
      ]
    },
    {
      "cell_type": "code",
      "metadata": {
        "colab": {
          "base_uri": "https://localhost:8080/"
        },
        "id": "n44ddqGC1dsi",
        "outputId": "c5844029-0e21-45e2-eb32-7e3c8c9e03fe"
      },
      "source": [
        "# A bit more information and summarize of our dataset.\n",
        "data.info()"
      ],
      "execution_count": 4,
      "outputs": [
        {
          "output_type": "stream",
          "name": "stdout",
          "text": [
            "<class 'pandas.core.frame.DataFrame'>\n",
            "RangeIndex: 25760 entries, 0 to 25759\n",
            "Data columns (total 10 columns):\n",
            " #   Column           Non-Null Count  Dtype \n",
            "---  ------           --------------  ----- \n",
            " 0   Unnamed: 0       25760 non-null  int64 \n",
            " 1   duration         25760 non-null  object\n",
            " 2   station_A_id     25760 non-null  int64 \n",
            " 3   station_A_name   25760 non-null  object\n",
            " 4   station_B_id     25760 non-null  int64 \n",
            " 5   station_B_name   25760 non-null  object\n",
            " 6   bike_id          25760 non-null  int64 \n",
            " 7   user_type        25760 non-null  int64 \n",
            " 8   user_birth_year  25760 non-null  int64 \n",
            " 9   user_gender      25760 non-null  object\n",
            "dtypes: int64(6), object(4)\n",
            "memory usage: 2.0+ MB\n"
          ]
        }
      ]
    },
    {
      "cell_type": "markdown",
      "metadata": {
        "id": "Zkg3Xi4LY41v"
      },
      "source": [
        "As we can observe, We've 25769 entries, one row for each ride sharing sample and 10 columns.<br>And it seems we have no missingness."
      ]
    },
    {
      "cell_type": "markdown",
      "metadata": {
        "id": "AjfyIztsaA-e"
      },
      "source": [
        "# ***Data cleaning***.\n",
        "### ***Datatype constrains.***\n",
        "We've to make sure that our columns are in correct datatype."
      ]
    },
    {
      "cell_type": "markdown",
      "metadata": {
        "id": "cC_7GfaQaHOr"
      },
      "source": [
        "The data type of ***duration column*** is object, but it contains ***numerical data***, which represents ***bicycle ride sharing duration time in minutes***.\n",
        "So, we have to convert it into numeric to ***avoid  misleading results*** when trying to extract some statistical summaries, as mathematical operations such as summing and multiplication lead to string concatenation, not numerical outputs. But first let's strip \"minutes\" from the column in order to make sure pandas reads it as numerical."
      ]
    },
    {
      "cell_type": "code",
      "metadata": {
        "colab": {
          "base_uri": "https://localhost:8080/"
        },
        "id": "eJCaomlhZ_C_",
        "outputId": "de258dc4-58ba-474d-c9fe-2ebd45eca395"
      },
      "source": [
        "# Strip duration of minutes and Convert it  to integer.\n",
        "data[\"duration\"] = data[\"duration\"].str.strip(\"minutes\").astype(\"int\")\n",
        "data[\"duration\"].mean()"
      ],
      "execution_count": 5,
      "outputs": [
        {
          "output_type": "execute_result",
          "data": {
            "text/plain": [
              "11.389052795031056"
            ]
          },
          "metadata": {},
          "execution_count": 5
        }
      ]
    },
    {
      "cell_type": "markdown",
      "metadata": {
        "id": "hocAGQ8P82JY"
      },
      "source": [
        "11 minutes is really not bad for an average ride duration in a city like San-Francisco."
      ]
    },
    {
      "cell_type": "markdown",
      "metadata": {
        "id": "BBlLeLD2cgHF"
      },
      "source": [
        "The user_type column contains information on whether a user is taking a free ride and takes on the following values: \n",
        "*   1 - for free riders.\n",
        "*   2 - for pay per ride.\n",
        "*   3 - for monthly subscribers.\n",
        "\n",
        "But the data type of user_type column is int64, we have to convert it to category, as the summary statistics are much more aligned with that of a categorical variable, discussing the number of observations, number of unique values, most frequent category instead of mean and standard deviation."
      ]
    },
    {
      "cell_type": "code",
      "metadata": {
        "id": "jtF4930ecnHK"
      },
      "source": [
        "# category= lambda x: x.astype(\"category\")\n",
        "data[\"user_type\"] = data[\"user_type\"].astype(\"category\")"
      ],
      "execution_count": 6,
      "outputs": []
    },
    {
      "cell_type": "markdown",
      "metadata": {
        "id": "mlMs3Vcwd16A"
      },
      "source": [
        "For the same reasons, we have to convert user_gender to category"
      ]
    },
    {
      "cell_type": "code",
      "metadata": {
        "id": "bh7OBdb1fovq"
      },
      "source": [
        "data[\"user_gender\"] = data[\"user_gender\"].astype(\"category\")"
      ],
      "execution_count": 7,
      "outputs": []
    },
    {
      "cell_type": "markdown",
      "metadata": {
        "id": "Kax0eX0TfzSO"
      },
      "source": [
        "Let's convet user_birth_year to datatime instead of object type. <br> Luckily, Python has specific data type objects for various data types that you're probably familiar with by now. This makes it much easier to manipulate these various data types in Python."
      ]
    },
    {
      "cell_type": "code",
      "metadata": {
        "id": "KVXOirZ-d3Xl"
      },
      "source": [
        "#data[\"user_birth_year\"] = pd.to_datetime(data[\"user_birth_year\"])"
      ],
      "execution_count": 8,
      "outputs": []
    },
    {
      "cell_type": "markdown",
      "source": [
        "'Unnamed: 0 column does not contain any useful or certain information, so we'll drop it due to memory space reasons."
      ],
      "metadata": {
        "id": "4TagRnwaLNrH"
      }
    },
    {
      "cell_type": "code",
      "source": [
        "data.drop('Unnamed: 0', axis=1, inplace=True)"
      ],
      "metadata": {
        "id": "sM-f9txoLN7j"
      },
      "execution_count": 9,
      "outputs": []
    },
    {
      "cell_type": "markdown",
      "metadata": {
        "id": "YydutrDg90hs"
      },
      "source": [
        "### ***check for duplicates.***\n",
        "A new update to the data pipeline feeding into ride_sharing has added the ride_id column, which represents a unique identifier for each ride.\n",
        "\n",
        "The update however coincided with radically shorter average ride duration times and irregular user birth dates set in the future. Most importantly, the number of rides taken has increased by 20% overnight, leading you to think there might be both complete and incomplete duplicates in the ride_sharing DataFrame. <br> Let's confirm this suspicion by finding those duplicates."
      ]
    },
    {
      "cell_type": "code",
      "metadata": {
        "id": "VXH04_rW-fo7",
        "colab": {
          "base_uri": "https://localhost:8080/",
          "height": 1000
        },
        "outputId": "50e0ffb9-1e50-4610-d4c3-e2f1075da9cb"
      },
      "source": [
        "# Find duplicates\n",
        "subset = ['duration', 'bike_id', 'station_A_id', 'user_type', 'user_birth_year', 'user_gender']\n",
        "duplicates = data.duplicated(subset = subset, keep = False)\n",
        "# Sort your duplicated rides\n",
        "duplicated_rides = data[duplicates].sort_values('bike_id')\n",
        "duplicated_rides"
      ],
      "execution_count": 10,
      "outputs": [
        {
          "output_type": "execute_result",
          "data": {
            "text/html": [
              "\n",
              "  <div id=\"df-c4168377-de84-47af-980c-57e204c84aea\">\n",
              "    <div class=\"colab-df-container\">\n",
              "      <div>\n",
              "<style scoped>\n",
              "    .dataframe tbody tr th:only-of-type {\n",
              "        vertical-align: middle;\n",
              "    }\n",
              "\n",
              "    .dataframe tbody tr th {\n",
              "        vertical-align: top;\n",
              "    }\n",
              "\n",
              "    .dataframe thead th {\n",
              "        text-align: right;\n",
              "    }\n",
              "</style>\n",
              "<table border=\"1\" class=\"dataframe\">\n",
              "  <thead>\n",
              "    <tr style=\"text-align: right;\">\n",
              "      <th></th>\n",
              "      <th>duration</th>\n",
              "      <th>station_A_id</th>\n",
              "      <th>station_A_name</th>\n",
              "      <th>station_B_id</th>\n",
              "      <th>station_B_name</th>\n",
              "      <th>bike_id</th>\n",
              "      <th>user_type</th>\n",
              "      <th>user_birth_year</th>\n",
              "      <th>user_gender</th>\n",
              "    </tr>\n",
              "  </thead>\n",
              "  <tbody>\n",
              "    <tr>\n",
              "      <th>15217</th>\n",
              "      <td>17</td>\n",
              "      <td>22</td>\n",
              "      <td>Howard St at Beale St</td>\n",
              "      <td>102</td>\n",
              "      <td>Irwin St at 8th St</td>\n",
              "      <td>492</td>\n",
              "      <td>3</td>\n",
              "      <td>1961</td>\n",
              "      <td>Female</td>\n",
              "    </tr>\n",
              "    <tr>\n",
              "      <th>9696</th>\n",
              "      <td>17</td>\n",
              "      <td>22</td>\n",
              "      <td>Howard St at Beale St</td>\n",
              "      <td>102</td>\n",
              "      <td>Irwin St at 8th St</td>\n",
              "      <td>492</td>\n",
              "      <td>3</td>\n",
              "      <td>1961</td>\n",
              "      <td>Female</td>\n",
              "    </tr>\n",
              "    <tr>\n",
              "      <th>566</th>\n",
              "      <td>9</td>\n",
              "      <td>81</td>\n",
              "      <td>Berry St at 4th St</td>\n",
              "      <td>81</td>\n",
              "      <td>Berry St at 4th St</td>\n",
              "      <td>1225</td>\n",
              "      <td>2</td>\n",
              "      <td>1993</td>\n",
              "      <td>Male</td>\n",
              "    </tr>\n",
              "    <tr>\n",
              "      <th>604</th>\n",
              "      <td>9</td>\n",
              "      <td>81</td>\n",
              "      <td>Berry St at 4th St</td>\n",
              "      <td>81</td>\n",
              "      <td>Berry St at 4th St</td>\n",
              "      <td>1225</td>\n",
              "      <td>2</td>\n",
              "      <td>1993</td>\n",
              "      <td>Male</td>\n",
              "    </tr>\n",
              "    <tr>\n",
              "      <th>394</th>\n",
              "      <td>9</td>\n",
              "      <td>67</td>\n",
              "      <td>San Francisco Caltrain Station 2  (Townsend St...</td>\n",
              "      <td>27</td>\n",
              "      <td>Beale St at Harrison St</td>\n",
              "      <td>2039</td>\n",
              "      <td>3</td>\n",
              "      <td>1991</td>\n",
              "      <td>Male</td>\n",
              "    </tr>\n",
              "    <tr>\n",
              "      <th>3380</th>\n",
              "      <td>9</td>\n",
              "      <td>67</td>\n",
              "      <td>San Francisco Caltrain Station 2  (Townsend St...</td>\n",
              "      <td>23</td>\n",
              "      <td>The Embarcadero at Steuart St</td>\n",
              "      <td>2039</td>\n",
              "      <td>3</td>\n",
              "      <td>1991</td>\n",
              "      <td>Male</td>\n",
              "    </tr>\n",
              "    <tr>\n",
              "      <th>19053</th>\n",
              "      <td>3</td>\n",
              "      <td>22</td>\n",
              "      <td>Howard St at Beale St</td>\n",
              "      <td>25</td>\n",
              "      <td>Howard St at 2nd St</td>\n",
              "      <td>4317</td>\n",
              "      <td>2</td>\n",
              "      <td>1984</td>\n",
              "      <td>Male</td>\n",
              "    </tr>\n",
              "    <tr>\n",
              "      <th>20015</th>\n",
              "      <td>3</td>\n",
              "      <td>22</td>\n",
              "      <td>Howard St at Beale St</td>\n",
              "      <td>11</td>\n",
              "      <td>Davis St at Jackson St</td>\n",
              "      <td>4317</td>\n",
              "      <td>2</td>\n",
              "      <td>1984</td>\n",
              "      <td>Male</td>\n",
              "    </tr>\n",
              "    <tr>\n",
              "      <th>18303</th>\n",
              "      <td>10</td>\n",
              "      <td>30</td>\n",
              "      <td>San Francisco Caltrain (Townsend St at 4th St)</td>\n",
              "      <td>6</td>\n",
              "      <td>The Embarcadero at Sansome St</td>\n",
              "      <td>4442</td>\n",
              "      <td>1</td>\n",
              "      <td>1967</td>\n",
              "      <td>Male</td>\n",
              "    </tr>\n",
              "    <tr>\n",
              "      <th>7610</th>\n",
              "      <td>10</td>\n",
              "      <td>30</td>\n",
              "      <td>San Francisco Caltrain (Townsend St at 4th St)</td>\n",
              "      <td>6</td>\n",
              "      <td>The Embarcadero at Sansome St</td>\n",
              "      <td>4442</td>\n",
              "      <td>1</td>\n",
              "      <td>1967</td>\n",
              "      <td>Male</td>\n",
              "    </tr>\n",
              "    <tr>\n",
              "      <th>11076</th>\n",
              "      <td>6</td>\n",
              "      <td>81</td>\n",
              "      <td>Berry St at 4th St</td>\n",
              "      <td>21</td>\n",
              "      <td>Montgomery St BART Station (Market St at 2nd St)</td>\n",
              "      <td>4608</td>\n",
              "      <td>2</td>\n",
              "      <td>1985</td>\n",
              "      <td>Male</td>\n",
              "    </tr>\n",
              "    <tr>\n",
              "      <th>5303</th>\n",
              "      <td>6</td>\n",
              "      <td>81</td>\n",
              "      <td>Berry St at 4th St</td>\n",
              "      <td>15</td>\n",
              "      <td>San Francisco Ferry Building (Harry Bridges Pl...</td>\n",
              "      <td>4608</td>\n",
              "      <td>2</td>\n",
              "      <td>1985</td>\n",
              "      <td>Male</td>\n",
              "    </tr>\n",
              "    <tr>\n",
              "      <th>19605</th>\n",
              "      <td>10</td>\n",
              "      <td>3</td>\n",
              "      <td>Powell St BART Station (Market St at 4th St)</td>\n",
              "      <td>85</td>\n",
              "      <td>Church St at Duboce Ave</td>\n",
              "      <td>4659</td>\n",
              "      <td>3</td>\n",
              "      <td>1987</td>\n",
              "      <td>Male</td>\n",
              "    </tr>\n",
              "    <tr>\n",
              "      <th>11078</th>\n",
              "      <td>10</td>\n",
              "      <td>3</td>\n",
              "      <td>Powell St BART Station (Market St at 4th St)</td>\n",
              "      <td>114</td>\n",
              "      <td>Rhode Island St at 17th St</td>\n",
              "      <td>4659</td>\n",
              "      <td>3</td>\n",
              "      <td>1987</td>\n",
              "      <td>Male</td>\n",
              "    </tr>\n",
              "    <tr>\n",
              "      <th>3399</th>\n",
              "      <td>9</td>\n",
              "      <td>15</td>\n",
              "      <td>San Francisco Ferry Building (Harry Bridges Pl...</td>\n",
              "      <td>92</td>\n",
              "      <td>Mission Bay Kids Park</td>\n",
              "      <td>4717</td>\n",
              "      <td>2</td>\n",
              "      <td>1977</td>\n",
              "      <td>Male</td>\n",
              "    </tr>\n",
              "    <tr>\n",
              "      <th>12604</th>\n",
              "      <td>9</td>\n",
              "      <td>15</td>\n",
              "      <td>San Francisco Ferry Building (Harry Bridges Pl...</td>\n",
              "      <td>30</td>\n",
              "      <td>San Francisco Caltrain (Townsend St at 4th St)</td>\n",
              "      <td>4717</td>\n",
              "      <td>2</td>\n",
              "      <td>1977</td>\n",
              "      <td>Male</td>\n",
              "    </tr>\n",
              "    <tr>\n",
              "      <th>10769</th>\n",
              "      <td>7</td>\n",
              "      <td>30</td>\n",
              "      <td>San Francisco Caltrain (Townsend St at 4th St)</td>\n",
              "      <td>22</td>\n",
              "      <td>Howard St at Beale St</td>\n",
              "      <td>4725</td>\n",
              "      <td>2</td>\n",
              "      <td>1981</td>\n",
              "      <td>Female</td>\n",
              "    </tr>\n",
              "    <tr>\n",
              "      <th>7822</th>\n",
              "      <td>7</td>\n",
              "      <td>30</td>\n",
              "      <td>San Francisco Caltrain (Townsend St at 4th St)</td>\n",
              "      <td>15</td>\n",
              "      <td>San Francisco Ferry Building (Harry Bridges Pl...</td>\n",
              "      <td>4725</td>\n",
              "      <td>2</td>\n",
              "      <td>1981</td>\n",
              "      <td>Female</td>\n",
              "    </tr>\n",
              "    <tr>\n",
              "      <th>23496</th>\n",
              "      <td>6</td>\n",
              "      <td>30</td>\n",
              "      <td>San Francisco Caltrain (Townsend St at 4th St)</td>\n",
              "      <td>21</td>\n",
              "      <td>Montgomery St BART Station (Market St at 2nd St)</td>\n",
              "      <td>4742</td>\n",
              "      <td>2</td>\n",
              "      <td>1992</td>\n",
              "      <td>Male</td>\n",
              "    </tr>\n",
              "    <tr>\n",
              "      <th>2255</th>\n",
              "      <td>6</td>\n",
              "      <td>30</td>\n",
              "      <td>San Francisco Caltrain (Townsend St at 4th St)</td>\n",
              "      <td>37</td>\n",
              "      <td>2nd St at Folsom St</td>\n",
              "      <td>4742</td>\n",
              "      <td>2</td>\n",
              "      <td>1992</td>\n",
              "      <td>Male</td>\n",
              "    </tr>\n",
              "    <tr>\n",
              "      <th>15361</th>\n",
              "      <td>5</td>\n",
              "      <td>5</td>\n",
              "      <td>Powell St BART Station (Market St at 5th St)</td>\n",
              "      <td>22</td>\n",
              "      <td>Howard St at Beale St</td>\n",
              "      <td>4928</td>\n",
              "      <td>3</td>\n",
              "      <td>1976</td>\n",
              "      <td>Male</td>\n",
              "    </tr>\n",
              "    <tr>\n",
              "      <th>830</th>\n",
              "      <td>5</td>\n",
              "      <td>5</td>\n",
              "      <td>Powell St BART Station (Market St at 5th St)</td>\n",
              "      <td>63</td>\n",
              "      <td>Bryant St at 6th St</td>\n",
              "      <td>4928</td>\n",
              "      <td>3</td>\n",
              "      <td>1976</td>\n",
              "      <td>Male</td>\n",
              "    </tr>\n",
              "    <tr>\n",
              "      <th>14669</th>\n",
              "      <td>7</td>\n",
              "      <td>67</td>\n",
              "      <td>San Francisco Caltrain Station 2  (Townsend St...</td>\n",
              "      <td>88</td>\n",
              "      <td>11th St at Bryant St</td>\n",
              "      <td>4946</td>\n",
              "      <td>2</td>\n",
              "      <td>1989</td>\n",
              "      <td>Male</td>\n",
              "    </tr>\n",
              "    <tr>\n",
              "      <th>5217</th>\n",
              "      <td>7</td>\n",
              "      <td>67</td>\n",
              "      <td>San Francisco Caltrain Station 2  (Townsend St...</td>\n",
              "      <td>100</td>\n",
              "      <td>Bryant St at 15th St</td>\n",
              "      <td>4946</td>\n",
              "      <td>2</td>\n",
              "      <td>1989</td>\n",
              "      <td>Male</td>\n",
              "    </tr>\n",
              "    <tr>\n",
              "      <th>9855</th>\n",
              "      <td>14</td>\n",
              "      <td>67</td>\n",
              "      <td>San Francisco Caltrain Station 2  (Townsend St...</td>\n",
              "      <td>6</td>\n",
              "      <td>The Embarcadero at Sansome St</td>\n",
              "      <td>4970</td>\n",
              "      <td>2</td>\n",
              "      <td>1987</td>\n",
              "      <td>Male</td>\n",
              "    </tr>\n",
              "    <tr>\n",
              "      <th>315</th>\n",
              "      <td>14</td>\n",
              "      <td>67</td>\n",
              "      <td>San Francisco Caltrain Station 2  (Townsend St...</td>\n",
              "      <td>365</td>\n",
              "      <td>Turk St at Fillmore St</td>\n",
              "      <td>4970</td>\n",
              "      <td>2</td>\n",
              "      <td>1987</td>\n",
              "      <td>Male</td>\n",
              "    </tr>\n",
              "    <tr>\n",
              "      <th>9724</th>\n",
              "      <td>4</td>\n",
              "      <td>21</td>\n",
              "      <td>Montgomery St BART Station (Market St at 2nd St)</td>\n",
              "      <td>343</td>\n",
              "      <td>Bryant St at 2nd St</td>\n",
              "      <td>5034</td>\n",
              "      <td>2</td>\n",
              "      <td>1993</td>\n",
              "      <td>Male</td>\n",
              "    </tr>\n",
              "    <tr>\n",
              "      <th>20170</th>\n",
              "      <td>4</td>\n",
              "      <td>21</td>\n",
              "      <td>Montgomery St BART Station (Market St at 2nd St)</td>\n",
              "      <td>343</td>\n",
              "      <td>Bryant St at 2nd St</td>\n",
              "      <td>5034</td>\n",
              "      <td>2</td>\n",
              "      <td>1993</td>\n",
              "      <td>Male</td>\n",
              "    </tr>\n",
              "    <tr>\n",
              "      <th>11954</th>\n",
              "      <td>8</td>\n",
              "      <td>67</td>\n",
              "      <td>San Francisco Caltrain Station 2  (Townsend St...</td>\n",
              "      <td>87</td>\n",
              "      <td>Folsom St at 13th St</td>\n",
              "      <td>5047</td>\n",
              "      <td>3</td>\n",
              "      <td>1989</td>\n",
              "      <td>Male</td>\n",
              "    </tr>\n",
              "    <tr>\n",
              "      <th>7116</th>\n",
              "      <td>8</td>\n",
              "      <td>67</td>\n",
              "      <td>San Francisco Caltrain Station 2  (Townsend St...</td>\n",
              "      <td>100</td>\n",
              "      <td>Bryant St at 15th St</td>\n",
              "      <td>5047</td>\n",
              "      <td>3</td>\n",
              "      <td>1989</td>\n",
              "      <td>Male</td>\n",
              "    </tr>\n",
              "    <tr>\n",
              "      <th>287</th>\n",
              "      <td>6</td>\n",
              "      <td>67</td>\n",
              "      <td>San Francisco Caltrain Station 2  (Townsend St...</td>\n",
              "      <td>62</td>\n",
              "      <td>Victoria Manalo Draves Park</td>\n",
              "      <td>5063</td>\n",
              "      <td>2</td>\n",
              "      <td>1990</td>\n",
              "      <td>Male</td>\n",
              "    </tr>\n",
              "    <tr>\n",
              "      <th>14040</th>\n",
              "      <td>6</td>\n",
              "      <td>67</td>\n",
              "      <td>San Francisco Caltrain Station 2  (Townsend St...</td>\n",
              "      <td>116</td>\n",
              "      <td>Mississippi St at 17th St</td>\n",
              "      <td>5063</td>\n",
              "      <td>2</td>\n",
              "      <td>1990</td>\n",
              "      <td>Male</td>\n",
              "    </tr>\n",
              "    <tr>\n",
              "      <th>19848</th>\n",
              "      <td>7</td>\n",
              "      <td>3</td>\n",
              "      <td>Powell St BART Station (Market St at 4th St)</td>\n",
              "      <td>26</td>\n",
              "      <td>1st St at Folsom St</td>\n",
              "      <td>5297</td>\n",
              "      <td>3</td>\n",
              "      <td>1980</td>\n",
              "      <td>Male</td>\n",
              "    </tr>\n",
              "    <tr>\n",
              "      <th>22539</th>\n",
              "      <td>7</td>\n",
              "      <td>3</td>\n",
              "      <td>Powell St BART Station (Market St at 4th St)</td>\n",
              "      <td>61</td>\n",
              "      <td>Howard St at 8th St</td>\n",
              "      <td>5297</td>\n",
              "      <td>3</td>\n",
              "      <td>1980</td>\n",
              "      <td>Male</td>\n",
              "    </tr>\n",
              "    <tr>\n",
              "      <th>12769</th>\n",
              "      <td>9</td>\n",
              "      <td>67</td>\n",
              "      <td>San Francisco Caltrain Station 2  (Townsend St...</td>\n",
              "      <td>41</td>\n",
              "      <td>Golden Gate Ave at Polk St</td>\n",
              "      <td>5342</td>\n",
              "      <td>2</td>\n",
              "      <td>1979</td>\n",
              "      <td>Male</td>\n",
              "    </tr>\n",
              "    <tr>\n",
              "      <th>15074</th>\n",
              "      <td>9</td>\n",
              "      <td>67</td>\n",
              "      <td>San Francisco Caltrain Station 2  (Townsend St...</td>\n",
              "      <td>363</td>\n",
              "      <td>Salesforce Transit Center (Natoma St at 2nd St)</td>\n",
              "      <td>5342</td>\n",
              "      <td>2</td>\n",
              "      <td>1979</td>\n",
              "      <td>Male</td>\n",
              "    </tr>\n",
              "    <tr>\n",
              "      <th>6543</th>\n",
              "      <td>9</td>\n",
              "      <td>21</td>\n",
              "      <td>Montgomery St BART Station (Market St at 2nd St)</td>\n",
              "      <td>58</td>\n",
              "      <td>Market St at 10th St</td>\n",
              "      <td>5345</td>\n",
              "      <td>2</td>\n",
              "      <td>1992</td>\n",
              "      <td>Male</td>\n",
              "    </tr>\n",
              "    <tr>\n",
              "      <th>4355</th>\n",
              "      <td>9</td>\n",
              "      <td>21</td>\n",
              "      <td>Montgomery St BART Station (Market St at 2nd St)</td>\n",
              "      <td>80</td>\n",
              "      <td>Townsend St at 5th St</td>\n",
              "      <td>5345</td>\n",
              "      <td>2</td>\n",
              "      <td>1992</td>\n",
              "      <td>Male</td>\n",
              "    </tr>\n",
              "    <tr>\n",
              "      <th>17492</th>\n",
              "      <td>9</td>\n",
              "      <td>16</td>\n",
              "      <td>Steuart St at Market St</td>\n",
              "      <td>81</td>\n",
              "      <td>Berry St at 4th St</td>\n",
              "      <td>5556</td>\n",
              "      <td>2</td>\n",
              "      <td>1994</td>\n",
              "      <td>Male</td>\n",
              "    </tr>\n",
              "    <tr>\n",
              "      <th>23893</th>\n",
              "      <td>9</td>\n",
              "      <td>16</td>\n",
              "      <td>Steuart St at Market St</td>\n",
              "      <td>30</td>\n",
              "      <td>San Francisco Caltrain (Townsend St at 4th St)</td>\n",
              "      <td>5556</td>\n",
              "      <td>2</td>\n",
              "      <td>1994</td>\n",
              "      <td>Male</td>\n",
              "    </tr>\n",
              "    <tr>\n",
              "      <th>14827</th>\n",
              "      <td>6</td>\n",
              "      <td>30</td>\n",
              "      <td>San Francisco Caltrain (Townsend St at 4th St)</td>\n",
              "      <td>37</td>\n",
              "      <td>2nd St at Folsom St</td>\n",
              "      <td>5576</td>\n",
              "      <td>2</td>\n",
              "      <td>1994</td>\n",
              "      <td>Male</td>\n",
              "    </tr>\n",
              "    <tr>\n",
              "      <th>13338</th>\n",
              "      <td>6</td>\n",
              "      <td>30</td>\n",
              "      <td>San Francisco Caltrain (Townsend St at 4th St)</td>\n",
              "      <td>62</td>\n",
              "      <td>Victoria Manalo Draves Park</td>\n",
              "      <td>5576</td>\n",
              "      <td>2</td>\n",
              "      <td>1994</td>\n",
              "      <td>Male</td>\n",
              "    </tr>\n",
              "  </tbody>\n",
              "</table>\n",
              "</div>\n",
              "      <button class=\"colab-df-convert\" onclick=\"convertToInteractive('df-c4168377-de84-47af-980c-57e204c84aea')\"\n",
              "              title=\"Convert this dataframe to an interactive table.\"\n",
              "              style=\"display:none;\">\n",
              "        \n",
              "  <svg xmlns=\"http://www.w3.org/2000/svg\" height=\"24px\"viewBox=\"0 0 24 24\"\n",
              "       width=\"24px\">\n",
              "    <path d=\"M0 0h24v24H0V0z\" fill=\"none\"/>\n",
              "    <path d=\"M18.56 5.44l.94 2.06.94-2.06 2.06-.94-2.06-.94-.94-2.06-.94 2.06-2.06.94zm-11 1L8.5 8.5l.94-2.06 2.06-.94-2.06-.94L8.5 2.5l-.94 2.06-2.06.94zm10 10l.94 2.06.94-2.06 2.06-.94-2.06-.94-.94-2.06-.94 2.06-2.06.94z\"/><path d=\"M17.41 7.96l-1.37-1.37c-.4-.4-.92-.59-1.43-.59-.52 0-1.04.2-1.43.59L10.3 9.45l-7.72 7.72c-.78.78-.78 2.05 0 2.83L4 21.41c.39.39.9.59 1.41.59.51 0 1.02-.2 1.41-.59l7.78-7.78 2.81-2.81c.8-.78.8-2.07 0-2.86zM5.41 20L4 18.59l7.72-7.72 1.47 1.35L5.41 20z\"/>\n",
              "  </svg>\n",
              "      </button>\n",
              "      \n",
              "  <style>\n",
              "    .colab-df-container {\n",
              "      display:flex;\n",
              "      flex-wrap:wrap;\n",
              "      gap: 12px;\n",
              "    }\n",
              "\n",
              "    .colab-df-convert {\n",
              "      background-color: #E8F0FE;\n",
              "      border: none;\n",
              "      border-radius: 50%;\n",
              "      cursor: pointer;\n",
              "      display: none;\n",
              "      fill: #1967D2;\n",
              "      height: 32px;\n",
              "      padding: 0 0 0 0;\n",
              "      width: 32px;\n",
              "    }\n",
              "\n",
              "    .colab-df-convert:hover {\n",
              "      background-color: #E2EBFA;\n",
              "      box-shadow: 0px 1px 2px rgba(60, 64, 67, 0.3), 0px 1px 3px 1px rgba(60, 64, 67, 0.15);\n",
              "      fill: #174EA6;\n",
              "    }\n",
              "\n",
              "    [theme=dark] .colab-df-convert {\n",
              "      background-color: #3B4455;\n",
              "      fill: #D2E3FC;\n",
              "    }\n",
              "\n",
              "    [theme=dark] .colab-df-convert:hover {\n",
              "      background-color: #434B5C;\n",
              "      box-shadow: 0px 1px 3px 1px rgba(0, 0, 0, 0.15);\n",
              "      filter: drop-shadow(0px 1px 2px rgba(0, 0, 0, 0.3));\n",
              "      fill: #FFFFFF;\n",
              "    }\n",
              "  </style>\n",
              "\n",
              "      <script>\n",
              "        const buttonEl =\n",
              "          document.querySelector('#df-c4168377-de84-47af-980c-57e204c84aea button.colab-df-convert');\n",
              "        buttonEl.style.display =\n",
              "          google.colab.kernel.accessAllowed ? 'block' : 'none';\n",
              "\n",
              "        async function convertToInteractive(key) {\n",
              "          const element = document.querySelector('#df-c4168377-de84-47af-980c-57e204c84aea');\n",
              "          const dataTable =\n",
              "            await google.colab.kernel.invokeFunction('convertToInteractive',\n",
              "                                                     [key], {});\n",
              "          if (!dataTable) return;\n",
              "\n",
              "          const docLinkHtml = 'Like what you see? Visit the ' +\n",
              "            '<a target=\"_blank\" href=https://colab.research.google.com/notebooks/data_table.ipynb>data table notebook</a>'\n",
              "            + ' to learn more about interactive tables.';\n",
              "          element.innerHTML = '';\n",
              "          dataTable['output_type'] = 'display_data';\n",
              "          await google.colab.output.renderOutput(dataTable, element);\n",
              "          const docLink = document.createElement('div');\n",
              "          docLink.innerHTML = docLinkHtml;\n",
              "          element.appendChild(docLink);\n",
              "        }\n",
              "      </script>\n",
              "    </div>\n",
              "  </div>\n",
              "  "
            ],
            "text/plain": [
              "       duration  station_A_id  ... user_birth_year  user_gender\n",
              "15217        17            22  ...            1961       Female\n",
              "9696         17            22  ...            1961       Female\n",
              "566           9            81  ...            1993         Male\n",
              "604           9            81  ...            1993         Male\n",
              "394           9            67  ...            1991         Male\n",
              "3380          9            67  ...            1991         Male\n",
              "19053         3            22  ...            1984         Male\n",
              "20015         3            22  ...            1984         Male\n",
              "18303        10            30  ...            1967         Male\n",
              "7610         10            30  ...            1967         Male\n",
              "11076         6            81  ...            1985         Male\n",
              "5303          6            81  ...            1985         Male\n",
              "19605        10             3  ...            1987         Male\n",
              "11078        10             3  ...            1987         Male\n",
              "3399          9            15  ...            1977         Male\n",
              "12604         9            15  ...            1977         Male\n",
              "10769         7            30  ...            1981       Female\n",
              "7822          7            30  ...            1981       Female\n",
              "23496         6            30  ...            1992         Male\n",
              "2255          6            30  ...            1992         Male\n",
              "15361         5             5  ...            1976         Male\n",
              "830           5             5  ...            1976         Male\n",
              "14669         7            67  ...            1989         Male\n",
              "5217          7            67  ...            1989         Male\n",
              "9855         14            67  ...            1987         Male\n",
              "315          14            67  ...            1987         Male\n",
              "9724          4            21  ...            1993         Male\n",
              "20170         4            21  ...            1993         Male\n",
              "11954         8            67  ...            1989         Male\n",
              "7116          8            67  ...            1989         Male\n",
              "287           6            67  ...            1990         Male\n",
              "14040         6            67  ...            1990         Male\n",
              "19848         7             3  ...            1980         Male\n",
              "22539         7             3  ...            1980         Male\n",
              "12769         9            67  ...            1979         Male\n",
              "15074         9            67  ...            1979         Male\n",
              "6543          9            21  ...            1992         Male\n",
              "4355          9            21  ...            1992         Male\n",
              "17492         9            16  ...            1994         Male\n",
              "23893         9            16  ...            1994         Male\n",
              "14827         6            30  ...            1994         Male\n",
              "13338         6            30  ...            1994         Male\n",
              "\n",
              "[42 rows x 9 columns]"
            ]
          },
          "metadata": {},
          "execution_count": 10
        }
      ]
    },
    {
      "cell_type": "code",
      "source": [
        "duplicated_rides.shape"
      ],
      "metadata": {
        "colab": {
          "base_uri": "https://localhost:8080/"
        },
        "id": "kMiOcn9TO9PM",
        "outputId": "01c07356-383a-491a-b4e1-0dbd665589d8"
      },
      "execution_count": 11,
      "outputs": [
        {
          "output_type": "execute_result",
          "data": {
            "text/plain": [
              "(42, 9)"
            ]
          },
          "metadata": {},
          "execution_count": 11
        }
      ]
    },
    {
      "cell_type": "markdown",
      "metadata": {
        "id": "MoCWSBpr-0P0"
      },
      "source": [
        "We've alot of samples that are ***completely duplicates*** (42 samples), and some samples are duplicated with ***small discrepancies*** across the columns.\n",
        "<br> For completely duplicates, simply we are goning to drop it. "
      ]
    },
    {
      "cell_type": "code",
      "metadata": {
        "id": "PGXvI_bE1mkA"
      },
      "source": [
        "# drop samples that are completely duplicates\n",
        "data = data.drop_duplicates(subset)"
      ],
      "execution_count": 12,
      "outputs": []
    },
    {
      "cell_type": "markdown",
      "metadata": {
        "id": "6VU3lIPG2VZX"
      },
      "source": [
        "For duplicates with ***small discrepancies*** we can use a statistical measure to combine each set of duplicated values. "
      ]
    },
    {
      "cell_type": "code",
      "metadata": {
        "id": "OCwNvLGT2W37"
      },
      "source": [
        "#subset= ['station_A_id', 'station_B_id', 'bike_id', 'user_type', 'user_gender']\n",
        "# Create statistics dictionary for aggregation function\n",
        "#statistics = {'user_birth_year': 'min', 'duration': 'mean'}\n",
        "\n",
        "# Group by subset column and compute new statistics\n",
        "#data = data.groupby(subset).agg(statistics).reset_index()"
      ],
      "execution_count": 13,
      "outputs": []
    },
    {
      "cell_type": "markdown",
      "metadata": {
        "id": "v29BmB3qhmoX"
      },
      "source": [
        "# ***Exploratory data analysis.***"
      ]
    },
    {
      "cell_type": "markdown",
      "source": [
        "Let's set a global style for our visualizations."
      ],
      "metadata": {
        "id": "H7qIEZ77OAGw"
      }
    },
    {
      "cell_type": "code",
      "source": [
        "sns.set(font_scale=1.5, rc={\"figure.figsize\":(8,6)})\n",
        "sns.set_style(\"ticks\")"
      ],
      "metadata": {
        "id": "6xazOJIpOCzm"
      },
      "execution_count": 14,
      "outputs": []
    },
    {
      "cell_type": "code",
      "source": [
        "data.user_type.value_counts()"
      ],
      "metadata": {
        "colab": {
          "base_uri": "https://localhost:8080/"
        },
        "id": "aGjYyaK1OGnN",
        "outputId": "9ff414ea-6c33-49c5-c5d9-737d5263831f"
      },
      "execution_count": 15,
      "outputs": [
        {
          "output_type": "execute_result",
          "data": {
            "text/plain": [
              "2    12958\n",
              "3     6496\n",
              "1     6285\n",
              "Name: user_type, dtype: int64"
            ]
          },
          "metadata": {},
          "execution_count": 15
        }
      ]
    },
    {
      "cell_type": "markdown",
      "source": [
        "*   1 - for free riders.\n",
        "*   2 - for pay per ride.\n",
        "*   3 - for monthly subscribers.\n",
        "<br> Let's convert this into a nicer looking chart."
      ],
      "metadata": {
        "id": "N1JXJBXkP0kK"
      }
    },
    {
      "cell_type": "code",
      "metadata": {
        "colab": {
          "base_uri": "https://localhost:8080/",
          "height": 432
        },
        "id": "Bs_ZkL2H15_U",
        "outputId": "51c7537f-5ade-4e92-c193-0853980dfade"
      },
      "source": [
        "plt.figure(figsize=(10,7))\n",
        "plt.pie(data[\"user_type\"].value_counts(), autopct=\"%1.1f%%\", \n",
        "        labels=[\"pay per ride\", \"monthly subscribers\", \"free riders\"], \n",
        "        textprops={\"fontsize\":15, \"style\":\"italic\"}, shadow=True)\n",
        "plt.title(\"User type \", fontsize=20)\n",
        "\n",
        "plt.show()"
      ],
      "execution_count": null,
      "outputs": [
        {
          "output_type": "display_data",
          "data": {
            "image/png": "[encoded data removed]",
            "text/plain": [
              "<Figure size 720x504 with 1 Axes>"
            ]
          },
          "metadata": {}
        }
      ]
    },
    {
      "cell_type": "code",
      "source": [
        "gender= data.user_gender.value_counts(normalize=True)* 100\n",
        "round(gender, 1)"
      ],
      "metadata": {
        "colab": {
          "base_uri": "https://localhost:8080/"
        },
        "id": "GVlkbBijQN-c",
        "outputId": "3d2fd95f-e7f2-4734-924a-a23ca4532177"
      },
      "execution_count": 16,
      "outputs": [
        {
          "output_type": "execute_result",
          "data": {
            "text/plain": [
              "Male      75.2\n",
              "Female    23.4\n",
              "Other      1.4\n",
              "Name: user_gender, dtype: float64"
            ]
          },
          "metadata": {},
          "execution_count": 16
        }
      ]
    },
    {
      "cell_type": "markdown",
      "source": [
        "Just 1.4% from our samples that have not been recorded truely, So we'll replace this with the "
      ],
      "metadata": {
        "id": "kj4vG8r1P4Kj"
      }
    },
    {
      "cell_type": "code",
      "source": [
        "#data.loc[data['user_gender'] == 'Other', \"user_gender\"] = \"Male\"\n",
        "data[\"user_gender\"]= data[\"user_gender\"].replace('Other', \"Male\")"
      ],
      "metadata": {
        "id": "fxZ96QB_RDRi"
      },
      "execution_count": 18,
      "outputs": []
    },
    {
      "cell_type": "markdown",
      "source": [
        "Now, let's visualize it, for better intution."
      ],
      "metadata": {
        "id": "wLr9QQgoRarf"
      }
    },
    {
      "cell_type": "code",
      "metadata": {
        "id": "sKUn9UtwphWg",
        "colab": {
          "base_uri": "https://localhost:8080/",
          "height": 411
        },
        "outputId": "51b92189-fd33-4341-dfb1-2311985666fb"
      },
      "source": [
        "plt.figure(figsize=(10,7))\n",
        "plt.pie(data[\"user_gender\"].value_counts(), autopct=\"%1.1f%%\", \n",
        "        labels=[\"Male\", \"Female\"], \n",
        "        textprops={\"fontsize\":15, \"style\":\"italic\"}, \n",
        "        explode=[0, 0.02])\n",
        "plt.title(\"User gender \", fontsize=20, color=\"red\", y=0.8)\n",
        "\n",
        "plt.show()"
      ],
      "execution_count": 19,
      "outputs": [
        {
          "output_type": "display_data",
          "data": {
            "image/png": "[encoded data removed]",
            "text/plain": [
              "<Figure size 720x504 with 1 Axes>"
            ]
          },
          "metadata": {}
        }
      ]
    },
    {
      "cell_type": "markdown",
      "source": [
        "## ***Does gender affect on user behaviour or type ?***"
      ],
      "metadata": {
        "id": "QSfFiMQoQsBd"
      }
    },
    {
      "cell_type": "code",
      "source": [
        "user= pd.DataFrame(data.groupby(by=\"user_gender\").user_type.value_counts(normalize =True)*100)\n",
        "round(user, 1)"
      ],
      "metadata": {
        "colab": {
          "base_uri": "https://localhost:8080/",
          "height": 269
        },
        "id": "MBuvNssiQWyu",
        "outputId": "1240d342-1f85-4ea1-ac96-224aa2a1a727"
      },
      "execution_count": 21,
      "outputs": [
        {
          "output_type": "execute_result",
          "data": {
            "text/html": [
              "\n",
              "  <div id=\"df-7365a400-cdc9-404d-86e7-c948349aea1f\">\n",
              "    <div class=\"colab-df-container\">\n",
              "      <div>\n",
              "<style scoped>\n",
              "    .dataframe tbody tr th:only-of-type {\n",
              "        vertical-align: middle;\n",
              "    }\n",
              "\n",
              "    .dataframe tbody tr th {\n",
              "        vertical-align: top;\n",
              "    }\n",
              "\n",
              "    .dataframe thead th {\n",
              "        text-align: right;\n",
              "    }\n",
              "</style>\n",
              "<table border=\"1\" class=\"dataframe\">\n",
              "  <thead>\n",
              "    <tr style=\"text-align: right;\">\n",
              "      <th></th>\n",
              "      <th></th>\n",
              "      <th>user_type</th>\n",
              "    </tr>\n",
              "    <tr>\n",
              "      <th>user_gender</th>\n",
              "      <th></th>\n",
              "      <th></th>\n",
              "    </tr>\n",
              "  </thead>\n",
              "  <tbody>\n",
              "    <tr>\n",
              "      <th rowspan=\"3\" valign=\"top\">Female</th>\n",
              "      <th>2</th>\n",
              "      <td>50.5</td>\n",
              "    </tr>\n",
              "    <tr>\n",
              "      <th>3</th>\n",
              "      <td>25.2</td>\n",
              "    </tr>\n",
              "    <tr>\n",
              "      <th>1</th>\n",
              "      <td>24.3</td>\n",
              "    </tr>\n",
              "    <tr>\n",
              "      <th rowspan=\"3\" valign=\"top\">Male</th>\n",
              "      <th>2</th>\n",
              "      <td>50.3</td>\n",
              "    </tr>\n",
              "    <tr>\n",
              "      <th>3</th>\n",
              "      <td>25.3</td>\n",
              "    </tr>\n",
              "    <tr>\n",
              "      <th>1</th>\n",
              "      <td>24.4</td>\n",
              "    </tr>\n",
              "  </tbody>\n",
              "</table>\n",
              "</div>\n",
              "      <button class=\"colab-df-convert\" onclick=\"convertToInteractive('df-7365a400-cdc9-404d-86e7-c948349aea1f')\"\n",
              "              title=\"Convert this dataframe to an interactive table.\"\n",
              "              style=\"display:none;\">\n",
              "        \n",
              "  <svg xmlns=\"http://www.w3.org/2000/svg\" height=\"24px\"viewBox=\"0 0 24 24\"\n",
              "       width=\"24px\">\n",
              "    <path d=\"M0 0h24v24H0V0z\" fill=\"none\"/>\n",
              "    <path d=\"M18.56 5.44l.94 2.06.94-2.06 2.06-.94-2.06-.94-.94-2.06-.94 2.06-2.06.94zm-11 1L8.5 8.5l.94-2.06 2.06-.94-2.06-.94L8.5 2.5l-.94 2.06-2.06.94zm10 10l.94 2.06.94-2.06 2.06-.94-2.06-.94-.94-2.06-.94 2.06-2.06.94z\"/><path d=\"M17.41 7.96l-1.37-1.37c-.4-.4-.92-.59-1.43-.59-.52 0-1.04.2-1.43.59L10.3 9.45l-7.72 7.72c-.78.78-.78 2.05 0 2.83L4 21.41c.39.39.9.59 1.41.59.51 0 1.02-.2 1.41-.59l7.78-7.78 2.81-2.81c.8-.78.8-2.07 0-2.86zM5.41 20L4 18.59l7.72-7.72 1.47 1.35L5.41 20z\"/>\n",
              "  </svg>\n",
              "      </button>\n",
              "      \n",
              "  <style>\n",
              "    .colab-df-container {\n",
              "      display:flex;\n",
              "      flex-wrap:wrap;\n",
              "      gap: 12px;\n",
              "    }\n",
              "\n",
              "    .colab-df-convert {\n",
              "      background-color: #E8F0FE;\n",
              "      border: none;\n",
              "      border-radius: 50%;\n",
              "      cursor: pointer;\n",
              "      display: none;\n",
              "      fill: #1967D2;\n",
              "      height: 32px;\n",
              "      padding: 0 0 0 0;\n",
              "      width: 32px;\n",
              "    }\n",
              "\n",
              "    .colab-df-convert:hover {\n",
              "      background-color: #E2EBFA;\n",
              "      box-shadow: 0px 1px 2px rgba(60, 64, 67, 0.3), 0px 1px 3px 1px rgba(60, 64, 67, 0.15);\n",
              "      fill: #174EA6;\n",
              "    }\n",
              "\n",
              "    [theme=dark] .colab-df-convert {\n",
              "      background-color: #3B4455;\n",
              "      fill: #D2E3FC;\n",
              "    }\n",
              "\n",
              "    [theme=dark] .colab-df-convert:hover {\n",
              "      background-color: #434B5C;\n",
              "      box-shadow: 0px 1px 3px 1px rgba(0, 0, 0, 0.15);\n",
              "      filter: drop-shadow(0px 1px 2px rgba(0, 0, 0, 0.3));\n",
              "      fill: #FFFFFF;\n",
              "    }\n",
              "  </style>\n",
              "\n",
              "      <script>\n",
              "        const buttonEl =\n",
              "          document.querySelector('#df-7365a400-cdc9-404d-86e7-c948349aea1f button.colab-df-convert');\n",
              "        buttonEl.style.display =\n",
              "          google.colab.kernel.accessAllowed ? 'block' : 'none';\n",
              "\n",
              "        async function convertToInteractive(key) {\n",
              "          const element = document.querySelector('#df-7365a400-cdc9-404d-86e7-c948349aea1f');\n",
              "          const dataTable =\n",
              "            await google.colab.kernel.invokeFunction('convertToInteractive',\n",
              "                                                     [key], {});\n",
              "          if (!dataTable) return;\n",
              "\n",
              "          const docLinkHtml = 'Like what you see? Visit the ' +\n",
              "            '<a target=\"_blank\" href=https://colab.research.google.com/notebooks/data_table.ipynb>data table notebook</a>'\n",
              "            + ' to learn more about interactive tables.';\n",
              "          element.innerHTML = '';\n",
              "          dataTable['output_type'] = 'display_data';\n",
              "          await google.colab.output.renderOutput(dataTable, element);\n",
              "          const docLink = document.createElement('div');\n",
              "          docLink.innerHTML = docLinkHtml;\n",
              "          element.appendChild(docLink);\n",
              "        }\n",
              "      </script>\n",
              "    </div>\n",
              "  </div>\n",
              "  "
            ],
            "text/plain": [
              "               user_type\n",
              "user_gender             \n",
              "Female      2       50.5\n",
              "            3       25.2\n",
              "            1       24.3\n",
              "Male        2       50.3\n",
              "            3       25.3\n",
              "            1       24.4"
            ]
          },
          "metadata": {},
          "execution_count": 21
        }
      ]
    },
    {
      "cell_type": "markdown",
      "source": [
        "It seems user gender does not have any effects on user type. As the rates are the same.\n",
        "<br> But let;s convert this table into a nicer lookingn chart."
      ],
      "metadata": {
        "id": "vjjWY_i7RVSl"
      }
    },
    {
      "cell_type": "code",
      "source": [
        "def barPerc(df,xVar,ax):\n",
        "    numX=len([x for x in df[xVar].unique() if x==x])\n",
        "    bars = ax.patches\n",
        "    for ind in range(numX):\n",
        "        hueBars=bars[ind:][::numX]\n",
        "        total = sum([x.get_height() for x in hueBars])\n",
        "        for bar in hueBars:\n",
        "            ax.text(bar.get_x() + bar.get_width()/2.,\n",
        "                    bar.get_height(),\n",
        "                    f'{bar.get_height()/total:.1%}',\n",
        "                    ha=\"center\",va=\"bottom\")"
      ],
      "metadata": {
        "id": "t4AHs4KeaBh1"
      },
      "execution_count": 65,
      "outputs": []
    },
    {
      "cell_type": "code",
      "source": [
        "ax= sns.countplot(data=data, x=\"user_gender\", hue=\"user_type\")\n",
        "plt.title(\"User gender and type\")\n",
        "sns.despine(trim=True, left=True)\n",
        "barPerc(data, \"user_gender\",ax)\n"
      ],
      "metadata": {
        "colab": {
          "base_uri": "https://localhost:8080/",
          "height": 427
        },
        "id": "DpKJ5meiSka3",
        "outputId": "0051b6b6-5473-4c3b-f6f4-4557093efca8"
      },
      "execution_count": 66,
      "outputs": [
        {
          "output_type": "display_data",
          "data": {
            "image/png": "[encoded data removed]",
            "text/plain": [
              "<Figure size 576x432 with 1 Axes>"
            ]
          },
          "metadata": {}
        }
      ]
    },
    {
      "cell_type": "code",
      "source": [
        "print(\"No. 1est station\", data.station_A_name.nunique(), \"\\n\")\n",
        "data.station_A_name.unique()"
      ],
      "metadata": {
        "colab": {
          "base_uri": "https://localhost:8080/"
        },
        "id": "iA0_RQfORLo4",
        "outputId": "71793993-5728-4bff-c4d0-3f04315fc259"
      },
      "execution_count": 67,
      "outputs": [
        {
          "output_type": "stream",
          "name": "stdout",
          "text": [
            "No. 1est station 9 \n",
            "\n"
          ]
        },
        {
          "output_type": "execute_result",
          "data": {
            "text/plain": [
              "array(['Berry St at 4th St',\n",
              "       'Powell St BART Station (Market St at 4th St)',\n",
              "       'San Francisco Caltrain Station 2  (Townsend St at 4th St)',\n",
              "       'Steuart St at Market St', 'Howard St at Beale St',\n",
              "       'San Francisco Caltrain (Townsend St at 4th St)',\n",
              "       'San Francisco Ferry Building (Harry Bridges Plaza)',\n",
              "       'Montgomery St BART Station (Market St at 2nd St)',\n",
              "       'Powell St BART Station (Market St at 5th St)'], dtype=object)"
            ]
          },
          "metadata": {},
          "execution_count": 67
        }
      ]
    },
    {
      "cell_type": "code",
      "source": [
        "print(\"No. 1est station\", data.station_A_id.nunique(), \"\\n\")\n",
        "data.station_A_id.unique()"
      ],
      "metadata": {
        "colab": {
          "base_uri": "https://localhost:8080/"
        },
        "id": "VsJeIDU-SWk4",
        "outputId": "6241a663-a01e-4013-95de-d856998074d3"
      },
      "execution_count": null,
      "outputs": [
        {
          "output_type": "stream",
          "name": "stdout",
          "text": [
            "No. 1est station 9 \n",
            "\n"
          ]
        },
        {
          "output_type": "execute_result",
          "data": {
            "text/plain": [
              "array([81,  3, 67, 16, 22, 30, 15, 21,  5])"
            ]
          },
          "metadata": {},
          "execution_count": 156
        }
      ]
    },
    {
      "cell_type": "markdown",
      "source": [
        "Each ***statiion_A_name  has a different id***, and ***since we have 9 places and 9 ids***,then there is ***no problem with statiion_A_name***.\n",
        "<br> Our dataset is already from ***San Francisco***, So having San Francisico in each station A name does not add value or certain information. So, we'll drop it."
      ],
      "metadata": {
        "id": "uevRNzrCVpb7"
      }
    },
    {
      "cell_type": "code",
      "source": [
        "data[\"station_A_name\"] = data[\"station_A_name\"].str.strip(\"San Francisco\")"
      ],
      "metadata": {
        "id": "08X4wMzXulMe"
      },
      "execution_count": 68,
      "outputs": []
    },
    {
      "cell_type": "markdown",
      "source": [
        "***'Powell St BART Station (Market St at 4th St)'*** <br>and ***'Powell St BART Station (Market St at 5th St)'*** <br> are ***two different stations*** with ***very small differencies in street number 4th and 5th***.<br> So let's collabse them into one category or one station. "
      ],
      "metadata": {
        "id": "EsWzZwvBu4ch"
      }
    },
    {
      "cell_type": "code",
      "source": [
        "# clean the straing in stations names Using regular expression \n",
        "\n",
        "def clean_train_data(x):\n",
        "    text = x\n",
        "    text = text.lower()\n",
        "    text = re.sub('\\[.*?\\]', '', text) # remove square brackets\n",
        "    text = re.sub('st at \\d+\\w+ st', '', text) # remove st and words containing numbers\n",
        "    text = re.sub('st', '', text) # remove st \n",
        "    text = re.sub(\"[()]\",\"\", text) # remove parentheses\n",
        "    return text"
      ],
      "metadata": {
        "id": "ULrT0QxDq5Gs"
      },
      "execution_count": 69,
      "outputs": []
    },
    {
      "cell_type": "code",
      "source": [
        "data['station_A_name'] = data.station_A_name.apply(lambda x : clean_train_data(x))"
      ],
      "metadata": {
        "id": "GZgf55lBbrDg"
      },
      "execution_count": 70,
      "outputs": []
    },
    {
      "cell_type": "markdown",
      "source": [
        "Let's visualize it."
      ],
      "metadata": {
        "id": "jaILgqgfbsmW"
      }
    },
    {
      "cell_type": "code",
      "source": [
        "plt.figure(figsize = (12, 8))\n",
        "\n",
        "wordcloud = WordCloud(width = 1500, height = 600, background_color ='white')\n",
        " \n",
        "stattionA= data[\"station_A_name\"].dropna().values\n",
        "wordcloud.generate(str(stattionA))\n",
        "# plot the WordCloud image                      \n",
        "plt.title(\"Station A name\")\n",
        "plt.imshow(wordcloud)\n",
        "plt.axis(\"off\")\n",
        " \n",
        "plt.show()"
      ],
      "metadata": {
        "colab": {
          "base_uri": "https://localhost:8080/",
          "height": 319
        },
        "id": "iuspwoBpkL6R",
        "outputId": "2b4dce4c-f84e-46d3-9f47-a1927e32d81a"
      },
      "execution_count": 72,
      "outputs": [
        {
          "output_type": "display_data",
          "data": {
            "image/png": "[encoded data removed]",
            "text/plain": [
              "<Figure size 864x576 with 1 Axes>"
            ]
          },
          "metadata": {}
        }
      ]
    },
    {
      "cell_type": "markdown",
      "source": [
        "Let's visualize it with ather way, but this time with the ***statiion id***, but remember we have collabseed places with station id 3 and 5 into one."
      ],
      "metadata": {
        "id": "voXlREpuklT2"
      }
    },
    {
      "cell_type": "code",
      "source": [
        "data[\"station_A_id\"]= data[\"station_A_id\"].replace(3, 5)"
      ],
      "metadata": {
        "id": "YEUkA7OQcbyD"
      },
      "execution_count": 73,
      "outputs": []
    },
    {
      "cell_type": "code",
      "source": [
        "sns.countplot(data=data, x=\"station_A_id\")\n",
        "sns.despine(trim=True, left=True)\n",
        "plt.title(\"Station A ID\")\n",
        "plt.show()"
      ],
      "metadata": {
        "colab": {
          "base_uri": "https://localhost:8080/",
          "height": 427
        },
        "id": "lIRgIC6DU9mq",
        "outputId": "335da8f9-bcc6-4d48-fbf3-6b581a76db62"
      },
      "execution_count": 76,
      "outputs": [
        {
          "output_type": "display_data",
          "data": {
            "image/png": "[encoded data removed]",
            "text/plain": [
              "<Figure size 576x432 with 1 Axes>"
            ]
          },
          "metadata": {}
        }
      ]
    },
    {
      "cell_type": "markdown",
      "source": [
        "We've "
      ],
      "metadata": {
        "id": "v6Mn0pDuSo-Y"
      }
    },
    {
      "cell_type": "code",
      "source": [
        "print(\"No. 2ed station\", data.station_B_name.nunique(), \"\\n\")\n",
        "data.station_B_name.unique()"
      ],
      "metadata": {
        "colab": {
          "base_uri": "https://localhost:8080/"
        },
        "id": "mPbpbMIzRRPl",
        "outputId": "d91df61e-d5ac-42bc-bd51-27a74d120859"
      },
      "execution_count": null,
      "outputs": [
        {
          "output_type": "stream",
          "name": "stdout",
          "text": [
            "No. 2ed station 152 \n",
            "\n"
          ]
        },
        {
          "output_type": "execute_result",
          "data": {
            "text/plain": [
              "array(['Broadway at Kearny', 'Eureka Valley Recreation Center',\n",
              "       'The Embarcadero at Steuart St', 'The Embarcadero at Bryant St',\n",
              "       '8th St at Brannan St', 'The Embarcadero at Sansome St',\n",
              "       '17th St at Dolores St', '14th St at Mission St',\n",
              "       'Steuart St at Market St', 'Victoria Manalo Draves Park',\n",
              "       '1st St at Folsom St', 'Beale St at Harrison St',\n",
              "       '23rd St at Tennessee St', 'Laguna St at Hayes St',\n",
              "       '5th St at Folsom', '19th St at Mission St',\n",
              "       'Davis St at Jackson St',\n",
              "       'San Francisco City Hall (Polk St at Grove St)',\n",
              "       'Market St at 10th St', 'China Basin St at 3rd St',\n",
              "       'Valencia St at Clinton Park',\n",
              "       'Mechanics Monument Plaza (Market St at Bush St)',\n",
              "       '17th St at Valencia St', '4th St at Mission Bay Blvd S',\n",
              "       'Jones St at Post St', 'Howard St at 8th St',\n",
              "       'Mississippi St at 17th St',\n",
              "       'San Francisco Ferry Building (Harry Bridges Plaza)',\n",
              "       'Irwin St at 8th St', 'McCoppin St at Valencia St',\n",
              "       '2nd St at Townsend St', 'Bryant St at 2nd St',\n",
              "       '22nd St Caltrain Station', 'Townsend St at 5th St',\n",
              "       '5th St at Brannan St', 'Golden Gate Ave at Polk St',\n",
              "       'Cyril Magnin St at Ellis St', 'Berry St at 4th St',\n",
              "       'Folsom St at 9th St', 'Broadway at Battery St',\n",
              "       'Central Ave at Fell St', 'Webster St at Grove St',\n",
              "       'Fell St at Stanyan St', 'Townsend St at 7th St',\n",
              "       'Page St at Scott St', 'Turk St at Fillmore St',\n",
              "       '4th St at Harrison St',\n",
              "       'San Francisco Caltrain Station 2  (Townsend St at 4th St)',\n",
              "       'Garfield Square (25th St at Harrison St)', '11th St at Bryant St',\n",
              "       '11th St at Natoma St', 'Market St at Franklin St',\n",
              "       '8th St at Ringold St', 'Hubbell St at 16th St',\n",
              "       'McAllister St at Baker St', 'Mission Playground',\n",
              "       'Montgomery St BART Station (Market St at 2nd St)',\n",
              "       'Church St at Duboce Ave', 'Harrison St at 17th St',\n",
              "       '20th St at Bryant St', 'Valencia St at 24th St',\n",
              "       'Pierce St at Haight St', '16th St Mission BART Station 2',\n",
              "       'Golden Gate Ave at Hyde St', 'Jackson Playground',\n",
              "       'Powell St BART Station (Market St at 5th St)',\n",
              "       'Rhode Island St at 17th St', 'Mission Bay Kids Park',\n",
              "       '2nd St at Folsom St', 'Esprit Park', 'Market St at Dolores St',\n",
              "       'Washington St at Kearny St', '15th St at Potrero Ave',\n",
              "       '23rd St at San Bruno Ave', 'S Park St at 3rd St',\n",
              "       'San Francisco Public Library (Grove St at Hyde St)',\n",
              "       'Powell St BART Station (Market St at 4th St)',\n",
              "       'Grove St at Divisadero', '4th St at 16th St',\n",
              "       'Bryant St at 15th St', 'Precita Park',\n",
              "       'Yerba Buena Center for the Arts (Howard St at 3rd St)',\n",
              "       'Folsom St at 13th St', '3rd St at Townsend St', 'Guerrero Park',\n",
              "       'Lombard St at Columbus Ave',\n",
              "       'San Francisco Caltrain (Townsend St at 4th St)',\n",
              "       'Berry St at King St', '7th St at Brannan St',\n",
              "       'Post St at Kearny St', 'Mission Dolores Park',\n",
              "       'Clay St at Battery St', '22nd St at Dolores St',\n",
              "       'Union Square (Powell St at Post St)',\n",
              "       'Scott St at Golden Gate Ave', 'Sanchez St at 15th St',\n",
              "       'Grove St at Masonic Ave', 'The Embarcadero at Vallejo St',\n",
              "       'Potrero Ave and Mariposa St',\n",
              "       'Civic Center/UN Plaza BART Station (Market St at McAllister St)',\n",
              "       'Howard St at Beale St',\n",
              "       '17th & Folsom Street Park (17th St at Folsom St)',\n",
              "       'Spear St at Folsom St', \"Webster St at O'Farrell St\",\n",
              "       'Bryant St at 6th St', 'Folsom St at 3rd St', 'Duboce Park',\n",
              "       'Dolores St at 15th St', 'Division St at Potrero Ave',\n",
              "       'Embarcadero BART Station (Beale St at Market St)',\n",
              "       'Jersey St at Castro St', '18th St at Noe St',\n",
              "       'Raymond Kimbell Playground', 'Father Alfred E Boeddeker Park',\n",
              "       'Howard St at Mary St', 'Valencia St at 22nd St',\n",
              "       'Alamo Square (Steiner St at Fulton St)', 'Koshland Park',\n",
              "       'Valencia St at 21st St', 'Golden Gate Ave at Franklin St',\n",
              "       'S Van Ness Ave at Market St', 'Commercial St at Montgomery St',\n",
              "       'Myrtle St at Polk St', 'Howard St at 2nd St',\n",
              "       'Valencia St at Cesar Chavez St', 'Folsom St at 19th St',\n",
              "       'Salesforce Transit Center (Natoma St at 2nd St)',\n",
              "       'Sanchez St at 17th St', 'Folsom St at 15th St',\n",
              "       'Newhall St at 3rd St', '19th St at Florida St',\n",
              "       'Hyde St at Post St', 'Harrison St at 20th St',\n",
              "       '16th St at Prosper St', '29th St at Church St',\n",
              "       'Mendell St at Fairfax Ave', '24th St at Chattanooga St',\n",
              "       'Franklin Square', 'Broderick St at Oak St',\n",
              "       '30th St at San Jose Ave', 'Masonic Ave at Turk St',\n",
              "       '20th St at Dolores St',\n",
              "       'Potrero del Sol Park (25th St at Utah St)',\n",
              "       'Williams Ave at 3rd St', \"O'Farrell St at Divisadero St\",\n",
              "       'Lane St at Revere Ave', '16th St Mission BART',\n",
              "       '29th St at Tiffany Ave', 'Jersey St at Church St',\n",
              "       'Williams Ave at Apollo St', 'Cesar Chavez St at Dolores St',\n",
              "       'Valencia St at 16th St'], dtype=object)"
            ]
          },
          "metadata": {},
          "execution_count": 45
        }
      ]
    },
    {
      "cell_type": "code",
      "source": [
        "print(\"No. 1est station\", data.station_B_id.nunique(), \"\\n\")\n",
        "data.station_B_id.unique()"
      ],
      "metadata": {
        "colab": {
          "base_uri": "https://localhost:8080/"
        },
        "id": "c8IuRjnNR50v",
        "outputId": "1600f2a4-b90c-4079-cc67-883e56290c9b"
      },
      "execution_count": null,
      "outputs": [
        {
          "output_type": "stream",
          "name": "stdout",
          "text": [
            "No. 1est station 152 \n",
            "\n"
          ]
        },
        {
          "output_type": "execute_result",
          "data": {
            "text/plain": [
              "array([323, 118,  23,  28, 350,   6, 107,  97,  16,  62,  26,  27, 355,\n",
              "        74, 321, 122,  11,  42,  58, 364, 356,  20, 109,  93, 370,  61,\n",
              "       116,  15, 102,  76,  50, 343, 130,  80,  64,  41,   4,  81,  78,\n",
              "         9,  70,  55, 377,  90,  72, 365,  47,  67, 139,  88,  77,  75,\n",
              "        60, 345,  52, 121,  21,  85, 112, 125, 134,  73, 223,  33, 115,\n",
              "         5, 114,  92,  37, 126,  86,  10, 101, 136,  49,  43,   3,  53,\n",
              "       104, 100, 144, 284,  87,  66, 142, 371,  30,  91,  79,  19, 120,\n",
              "        14, 131, 324,  39,  95, 375,   8, 336,  44,  22, 110,  24, 285,\n",
              "        63,  36,  84,  96,  89,  17, 137, 119,  31,  34, 349, 133,  54,\n",
              "        56, 127, 383,  59,  13, 368,  25, 141, 123, 363, 106,  99, 360,\n",
              "       124, 369, 129, 105, 145, 361, 132, 113,  71, 146, 380, 381, 373,\n",
              "       358,  29, 362, 108, 147, 138, 359, 140,  98])"
            ]
          },
          "metadata": {},
          "execution_count": 47
        }
      ]
    },
    {
      "cell_type": "markdown",
      "source": [
        "Doing the same for station B name."
      ],
      "metadata": {
        "id": "h32sPbRiSqmv"
      }
    },
    {
      "cell_type": "code",
      "source": [
        "data['station_B_name'] = data.station_B_name.apply(lambda x : clean_train_data(x))"
      ],
      "metadata": {
        "id": "xsRYfBhGvk1U"
      },
      "execution_count": 77,
      "outputs": []
    },
    {
      "cell_type": "code",
      "source": [
        "plt.figure(figsize = (12, 8))\n",
        "\n",
        "wordcloud = WordCloud(width = 1500, height = 600, background_color ='white')\n",
        " \n",
        "stattionB= data[\"station_B_name\"].dropna().values\n",
        "wordcloud.generate(str(stattionB))\n",
        "# plot the WordCloud image                      \n",
        "plt.title(\"Station B name\")\n",
        "plt.imshow(wordcloud)\n",
        "plt.axis(\"off\")\n",
        " \n",
        "plt.show()"
      ],
      "metadata": {
        "colab": {
          "base_uri": "https://localhost:8080/",
          "height": 319
        },
        "id": "DR2xfcvowEQs",
        "outputId": "9e224da3-aa92-4da4-d119-1ddf7b4ebc1e"
      },
      "execution_count": 78,
      "outputs": [
        {
          "output_type": "display_data",
          "data": {
            "image/png": "[encoded data removed]",
            "text/plain": [
              "<Figure size 864x576 with 1 Axes>"
            ]
          },
          "metadata": {}
        }
      ]
    },
    {
      "cell_type": "code",
      "source": [
        "stations= pd.DataFrame(data.groupby(by=\"station_A_id\").station_B_id.value_counts(normalize=True) * 100)\n",
        "stations= round(stations, 1)\n",
        "stations"
      ],
      "metadata": {
        "colab": {
          "base_uri": "https://localhost:8080/",
          "height": 455
        },
        "id": "hj50zLRYSjWO",
        "outputId": "b1ba66d4-98fc-45f1-cd04-bb2c91ea1e48"
      },
      "execution_count": null,
      "outputs": [
        {
          "output_type": "execute_result",
          "data": {
            "text/html": [
              "\n",
              "  <div id=\"df-ab76c906-e37b-43e3-8f30-32b5f52ee085\">\n",
              "    <div class=\"colab-df-container\">\n",
              "      <div>\n",
              "<style scoped>\n",
              "    .dataframe tbody tr th:only-of-type {\n",
              "        vertical-align: middle;\n",
              "    }\n",
              "\n",
              "    .dataframe tbody tr th {\n",
              "        vertical-align: top;\n",
              "    }\n",
              "\n",
              "    .dataframe thead th {\n",
              "        text-align: right;\n",
              "    }\n",
              "</style>\n",
              "<table border=\"1\" class=\"dataframe\">\n",
              "  <thead>\n",
              "    <tr style=\"text-align: right;\">\n",
              "      <th></th>\n",
              "      <th></th>\n",
              "      <th>station_B_id</th>\n",
              "    </tr>\n",
              "    <tr>\n",
              "      <th>station_A_id</th>\n",
              "      <th>station_B_id</th>\n",
              "      <th></th>\n",
              "    </tr>\n",
              "  </thead>\n",
              "  <tbody>\n",
              "    <tr>\n",
              "      <th rowspan=\"5\" valign=\"top\">3</th>\n",
              "      <th>58</th>\n",
              "      <td>6.3</td>\n",
              "    </tr>\n",
              "    <tr>\n",
              "      <th>47</th>\n",
              "      <td>6.1</td>\n",
              "    </tr>\n",
              "    <tr>\n",
              "      <th>30</th>\n",
              "      <td>4.9</td>\n",
              "    </tr>\n",
              "    <tr>\n",
              "      <th>67</th>\n",
              "      <td>3.7</td>\n",
              "    </tr>\n",
              "    <tr>\n",
              "      <th>81</th>\n",
              "      <td>2.4</td>\n",
              "    </tr>\n",
              "    <tr>\n",
              "      <th>...</th>\n",
              "      <th>...</th>\n",
              "      <td>...</td>\n",
              "    </tr>\n",
              "    <tr>\n",
              "      <th rowspan=\"5\" valign=\"top\">81</th>\n",
              "      <th>358</th>\n",
              "      <td>0.0</td>\n",
              "    </tr>\n",
              "    <tr>\n",
              "      <th>361</th>\n",
              "      <td>0.0</td>\n",
              "    </tr>\n",
              "    <tr>\n",
              "      <th>362</th>\n",
              "      <td>0.0</td>\n",
              "    </tr>\n",
              "    <tr>\n",
              "      <th>369</th>\n",
              "      <td>0.0</td>\n",
              "    </tr>\n",
              "    <tr>\n",
              "      <th>381</th>\n",
              "      <td>0.0</td>\n",
              "    </tr>\n",
              "  </tbody>\n",
              "</table>\n",
              "<p>1235 rows × 1 columns</p>\n",
              "</div>\n",
              "      <button class=\"colab-df-convert\" onclick=\"convertToInteractive('df-ab76c906-e37b-43e3-8f30-32b5f52ee085')\"\n",
              "              title=\"Convert this dataframe to an interactive table.\"\n",
              "              style=\"display:none;\">\n",
              "        \n",
              "  <svg xmlns=\"http://www.w3.org/2000/svg\" height=\"24px\"viewBox=\"0 0 24 24\"\n",
              "       width=\"24px\">\n",
              "    <path d=\"M0 0h24v24H0V0z\" fill=\"none\"/>\n",
              "    <path d=\"M18.56 5.44l.94 2.06.94-2.06 2.06-.94-2.06-.94-.94-2.06-.94 2.06-2.06.94zm-11 1L8.5 8.5l.94-2.06 2.06-.94-2.06-.94L8.5 2.5l-.94 2.06-2.06.94zm10 10l.94 2.06.94-2.06 2.06-.94-2.06-.94-.94-2.06-.94 2.06-2.06.94z\"/><path d=\"M17.41 7.96l-1.37-1.37c-.4-.4-.92-.59-1.43-.59-.52 0-1.04.2-1.43.59L10.3 9.45l-7.72 7.72c-.78.78-.78 2.05 0 2.83L4 21.41c.39.39.9.59 1.41.59.51 0 1.02-.2 1.41-.59l7.78-7.78 2.81-2.81c.8-.78.8-2.07 0-2.86zM5.41 20L4 18.59l7.72-7.72 1.47 1.35L5.41 20z\"/>\n",
              "  </svg>\n",
              "      </button>\n",
              "      \n",
              "  <style>\n",
              "    .colab-df-container {\n",
              "      display:flex;\n",
              "      flex-wrap:wrap;\n",
              "      gap: 12px;\n",
              "    }\n",
              "\n",
              "    .colab-df-convert {\n",
              "      background-color: #E8F0FE;\n",
              "      border: none;\n",
              "      border-radius: 50%;\n",
              "      cursor: pointer;\n",
              "      display: none;\n",
              "      fill: #1967D2;\n",
              "      height: 32px;\n",
              "      padding: 0 0 0 0;\n",
              "      width: 32px;\n",
              "    }\n",
              "\n",
              "    .colab-df-convert:hover {\n",
              "      background-color: #E2EBFA;\n",
              "      box-shadow: 0px 1px 2px rgba(60, 64, 67, 0.3), 0px 1px 3px 1px rgba(60, 64, 67, 0.15);\n",
              "      fill: #174EA6;\n",
              "    }\n",
              "\n",
              "    [theme=dark] .colab-df-convert {\n",
              "      background-color: #3B4455;\n",
              "      fill: #D2E3FC;\n",
              "    }\n",
              "\n",
              "    [theme=dark] .colab-df-convert:hover {\n",
              "      background-color: #434B5C;\n",
              "      box-shadow: 0px 1px 3px 1px rgba(0, 0, 0, 0.15);\n",
              "      filter: drop-shadow(0px 1px 2px rgba(0, 0, 0, 0.3));\n",
              "      fill: #FFFFFF;\n",
              "    }\n",
              "  </style>\n",
              "\n",
              "      <script>\n",
              "        const buttonEl =\n",
              "          document.querySelector('#df-ab76c906-e37b-43e3-8f30-32b5f52ee085 button.colab-df-convert');\n",
              "        buttonEl.style.display =\n",
              "          google.colab.kernel.accessAllowed ? 'block' : 'none';\n",
              "\n",
              "        async function convertToInteractive(key) {\n",
              "          const element = document.querySelector('#df-ab76c906-e37b-43e3-8f30-32b5f52ee085');\n",
              "          const dataTable =\n",
              "            await google.colab.kernel.invokeFunction('convertToInteractive',\n",
              "                                                     [key], {});\n",
              "          if (!dataTable) return;\n",
              "\n",
              "          const docLinkHtml = 'Like what you see? Visit the ' +\n",
              "            '<a target=\"_blank\" href=https://colab.research.google.com/notebooks/data_table.ipynb>data table notebook</a>'\n",
              "            + ' to learn more about interactive tables.';\n",
              "          element.innerHTML = '';\n",
              "          dataTable['output_type'] = 'display_data';\n",
              "          await google.colab.output.renderOutput(dataTable, element);\n",
              "          const docLink = document.createElement('div');\n",
              "          docLink.innerHTML = docLinkHtml;\n",
              "          element.appendChild(docLink);\n",
              "        }\n",
              "      </script>\n",
              "    </div>\n",
              "  </div>\n",
              "  "
            ],
            "text/plain": [
              "                           station_B_id\n",
              "station_A_id station_B_id              \n",
              "3            58                     6.3\n",
              "             47                     6.1\n",
              "             30                     4.9\n",
              "             67                     3.7\n",
              "             81                     2.4\n",
              "...                                 ...\n",
              "81           358                    0.0\n",
              "             361                    0.0\n",
              "             362                    0.0\n",
              "             369                    0.0\n",
              "             381                    0.0\n",
              "\n",
              "[1235 rows x 1 columns]"
            ]
          },
          "metadata": {},
          "execution_count": 50
        }
      ]
    },
    {
      "cell_type": "code",
      "source": [
        "plt.hist(data=data, x=\"user_birth_year\")\n",
        "sns.despine(trim=True, left=True)\n",
        "plt.title(\"The distribution of user age\")\n",
        "plt.show()"
      ],
      "metadata": {
        "id": "MmoJTD0RUi4X",
        "colab": {
          "base_uri": "https://localhost:8080/",
          "height": 405
        },
        "outputId": "3393d0a4-62e8-4fb9-d07e-4208366be972"
      },
      "execution_count": 81,
      "outputs": [
        {
          "output_type": "display_data",
          "data": {
            "image/png": "[encoded data removed]",
            "text/plain": [
              "<Figure size 576x432 with 1 Axes>"
            ]
          },
          "metadata": {}
        }
      ]
    },
    {
      "cell_type": "markdown",
      "source": [
        "As we can observe the distribution is left-skewed, which means that we have more old uers than younger."
      ],
      "metadata": {
        "id": "vdFzWMO1dbGG"
      }
    }
  ]
}