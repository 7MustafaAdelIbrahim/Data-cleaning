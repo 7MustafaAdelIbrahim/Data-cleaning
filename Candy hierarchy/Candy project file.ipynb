{
 "cells": [
  {
   "cell_type": "code",
   "execution_count": 2,
   "id": "pacific-bridal",
   "metadata": {},
   "outputs": [
    {
     "name": "stderr",
     "output_type": "stream",
     "text": [
      "c:\\users\\nasser\\appdata\\local\\programs\\python\\python39\\lib\\site-packages\\fuzzywuzzy\\fuzz.py:11: UserWarning: Using slow pure-python SequenceMatcher. Install python-Levenshtein to remove this warning\n",
      "  warnings.warn('Using slow pure-python SequenceMatcher. Install python-Levenshtein to remove this warning')\n"
     ]
    },
    {
     "data": {
      "text/html": [
       "<div>\n",
       "<style scoped>\n",
       "    .dataframe tbody tr th:only-of-type {\n",
       "        vertical-align: middle;\n",
       "    }\n",
       "\n",
       "    .dataframe tbody tr th {\n",
       "        vertical-align: top;\n",
       "    }\n",
       "\n",
       "    .dataframe thead th {\n",
       "        text-align: right;\n",
       "    }\n",
       "</style>\n",
       "<table border=\"1\" class=\"dataframe\">\n",
       "  <thead>\n",
       "    <tr style=\"text-align: right;\">\n",
       "      <th></th>\n",
       "      <th>Internal ID</th>\n",
       "      <th>Q12: MEDIA [Daily Dish]</th>\n",
       "      <th>Q12: MEDIA [Science]</th>\n",
       "      <th>Q12: MEDIA [ESPN]</th>\n",
       "      <th>Q12: MEDIA [Yahoo]</th>\n",
       "    </tr>\n",
       "  </thead>\n",
       "  <tbody>\n",
       "    <tr>\n",
       "      <th>count</th>\n",
       "      <td>2.460000e+03</td>\n",
       "      <td>85.0</td>\n",
       "      <td>1362.0</td>\n",
       "      <td>99.0</td>\n",
       "      <td>67.0</td>\n",
       "    </tr>\n",
       "    <tr>\n",
       "      <th>mean</th>\n",
       "      <td>9.028016e+07</td>\n",
       "      <td>1.0</td>\n",
       "      <td>1.0</td>\n",
       "      <td>1.0</td>\n",
       "      <td>1.0</td>\n",
       "    </tr>\n",
       "    <tr>\n",
       "      <th>std</th>\n",
       "      <td>7.435532e+03</td>\n",
       "      <td>0.0</td>\n",
       "      <td>0.0</td>\n",
       "      <td>0.0</td>\n",
       "      <td>0.0</td>\n",
       "    </tr>\n",
       "    <tr>\n",
       "      <th>min</th>\n",
       "      <td>9.025877e+07</td>\n",
       "      <td>1.0</td>\n",
       "      <td>1.0</td>\n",
       "      <td>1.0</td>\n",
       "      <td>1.0</td>\n",
       "    </tr>\n",
       "    <tr>\n",
       "      <th>25%</th>\n",
       "      <td>9.027520e+07</td>\n",
       "      <td>1.0</td>\n",
       "      <td>1.0</td>\n",
       "      <td>1.0</td>\n",
       "      <td>1.0</td>\n",
       "    </tr>\n",
       "    <tr>\n",
       "      <th>50%</th>\n",
       "      <td>9.027780e+07</td>\n",
       "      <td>1.0</td>\n",
       "      <td>1.0</td>\n",
       "      <td>1.0</td>\n",
       "      <td>1.0</td>\n",
       "    </tr>\n",
       "    <tr>\n",
       "      <th>75%</th>\n",
       "      <td>9.028242e+07</td>\n",
       "      <td>1.0</td>\n",
       "      <td>1.0</td>\n",
       "      <td>1.0</td>\n",
       "      <td>1.0</td>\n",
       "    </tr>\n",
       "    <tr>\n",
       "      <th>max</th>\n",
       "      <td>9.031480e+07</td>\n",
       "      <td>1.0</td>\n",
       "      <td>1.0</td>\n",
       "      <td>1.0</td>\n",
       "      <td>1.0</td>\n",
       "    </tr>\n",
       "  </tbody>\n",
       "</table>\n",
       "</div>"
      ],
      "text/plain": [
       "        Internal ID  Q12: MEDIA [Daily Dish]  Q12: MEDIA [Science]  \\\n",
       "count  2.460000e+03                     85.0                1362.0   \n",
       "mean   9.028016e+07                      1.0                   1.0   \n",
       "std    7.435532e+03                      0.0                   0.0   \n",
       "min    9.025877e+07                      1.0                   1.0   \n",
       "25%    9.027520e+07                      1.0                   1.0   \n",
       "50%    9.027780e+07                      1.0                   1.0   \n",
       "75%    9.028242e+07                      1.0                   1.0   \n",
       "max    9.031480e+07                      1.0                   1.0   \n",
       "\n",
       "       Q12: MEDIA [ESPN]  Q12: MEDIA [Yahoo]  \n",
       "count               99.0                67.0  \n",
       "mean                 1.0                 1.0  \n",
       "std                  0.0                 0.0  \n",
       "min                  1.0                 1.0  \n",
       "25%                  1.0                 1.0  \n",
       "50%                  1.0                 1.0  \n",
       "75%                  1.0                 1.0  \n",
       "max                  1.0                 1.0  "
      ]
     },
     "execution_count": 2,
     "metadata": {},
     "output_type": "execute_result"
    }
   ],
   "source": [
    "import numpy as np\n",
    "import pandas as pd\n",
    "import seaborn as sns\n",
    "import matplotlib.pyplot as plt\n",
    "from fuzzywuzzy import fuzz\n",
    "from fuzzywuzzy import process\n",
    "df = pd.read_csv(\"candyhierarchy2017.csv\")\n",
    "df.describe()"
   ]
  },
  {
   "cell_type": "code",
   "execution_count": 3,
   "id": "experienced-canberra",
   "metadata": {},
   "outputs": [
    {
     "data": {
      "text/html": [
       "<div>\n",
       "<style scoped>\n",
       "    .dataframe tbody tr th:only-of-type {\n",
       "        vertical-align: middle;\n",
       "    }\n",
       "\n",
       "    .dataframe tbody tr th {\n",
       "        vertical-align: top;\n",
       "    }\n",
       "\n",
       "    .dataframe thead th {\n",
       "        text-align: right;\n",
       "    }\n",
       "</style>\n",
       "<table border=\"1\" class=\"dataframe\">\n",
       "  <thead>\n",
       "    <tr style=\"text-align: right;\">\n",
       "      <th></th>\n",
       "      <th>Internal ID</th>\n",
       "      <th>Q1: GOING OUT?</th>\n",
       "      <th>Q2: GENDER</th>\n",
       "      <th>Q3: AGE</th>\n",
       "      <th>Q4: COUNTRY</th>\n",
       "      <th>Q5: STATE, PROVINCE, COUNTY, ETC</th>\n",
       "      <th>Q6 | 100 Grand Bar</th>\n",
       "      <th>Q6 | Anonymous brown globs that come in black and orange wrappers\\t(a.k.a. Mary Janes)</th>\n",
       "      <th>Q6 | Any full-sized candy bar</th>\n",
       "      <th>Q6 | Black Jacks</th>\n",
       "      <th>...</th>\n",
       "      <th>Q8: DESPAIR OTHER</th>\n",
       "      <th>Q9: OTHER COMMENTS</th>\n",
       "      <th>Q10: DRESS</th>\n",
       "      <th>Unnamed: 113</th>\n",
       "      <th>Q11: DAY</th>\n",
       "      <th>Q12: MEDIA [Daily Dish]</th>\n",
       "      <th>Q12: MEDIA [Science]</th>\n",
       "      <th>Q12: MEDIA [ESPN]</th>\n",
       "      <th>Q12: MEDIA [Yahoo]</th>\n",
       "      <th>Click Coordinates (x, y)</th>\n",
       "    </tr>\n",
       "  </thead>\n",
       "  <tbody>\n",
       "    <tr>\n",
       "      <th>0</th>\n",
       "      <td>90258773</td>\n",
       "      <td>NaN</td>\n",
       "      <td>NaN</td>\n",
       "      <td>NaN</td>\n",
       "      <td>NaN</td>\n",
       "      <td>NaN</td>\n",
       "      <td>NaN</td>\n",
       "      <td>NaN</td>\n",
       "      <td>NaN</td>\n",
       "      <td>NaN</td>\n",
       "      <td>...</td>\n",
       "      <td>NaN</td>\n",
       "      <td>NaN</td>\n",
       "      <td>NaN</td>\n",
       "      <td>NaN</td>\n",
       "      <td>NaN</td>\n",
       "      <td>NaN</td>\n",
       "      <td>NaN</td>\n",
       "      <td>NaN</td>\n",
       "      <td>NaN</td>\n",
       "      <td>NaN</td>\n",
       "    </tr>\n",
       "    <tr>\n",
       "      <th>1</th>\n",
       "      <td>90272821</td>\n",
       "      <td>No</td>\n",
       "      <td>Male</td>\n",
       "      <td>44</td>\n",
       "      <td>USA</td>\n",
       "      <td>NM</td>\n",
       "      <td>MEH</td>\n",
       "      <td>DESPAIR</td>\n",
       "      <td>JOY</td>\n",
       "      <td>MEH</td>\n",
       "      <td>...</td>\n",
       "      <td>NaN</td>\n",
       "      <td>Bottom line is Twix is really the only candy w...</td>\n",
       "      <td>White and gold</td>\n",
       "      <td>NaN</td>\n",
       "      <td>Sunday</td>\n",
       "      <td>NaN</td>\n",
       "      <td>1.0</td>\n",
       "      <td>NaN</td>\n",
       "      <td>NaN</td>\n",
       "      <td>(84, 25)</td>\n",
       "    </tr>\n",
       "    <tr>\n",
       "      <th>2</th>\n",
       "      <td>90272829</td>\n",
       "      <td>NaN</td>\n",
       "      <td>Male</td>\n",
       "      <td>49</td>\n",
       "      <td>USA</td>\n",
       "      <td>Virginia</td>\n",
       "      <td>NaN</td>\n",
       "      <td>NaN</td>\n",
       "      <td>NaN</td>\n",
       "      <td>NaN</td>\n",
       "      <td>...</td>\n",
       "      <td>NaN</td>\n",
       "      <td>NaN</td>\n",
       "      <td>NaN</td>\n",
       "      <td>NaN</td>\n",
       "      <td>NaN</td>\n",
       "      <td>NaN</td>\n",
       "      <td>NaN</td>\n",
       "      <td>NaN</td>\n",
       "      <td>NaN</td>\n",
       "      <td>NaN</td>\n",
       "    </tr>\n",
       "    <tr>\n",
       "      <th>3</th>\n",
       "      <td>90272840</td>\n",
       "      <td>No</td>\n",
       "      <td>Male</td>\n",
       "      <td>40</td>\n",
       "      <td>us</td>\n",
       "      <td>or</td>\n",
       "      <td>MEH</td>\n",
       "      <td>DESPAIR</td>\n",
       "      <td>JOY</td>\n",
       "      <td>MEH</td>\n",
       "      <td>...</td>\n",
       "      <td>NaN</td>\n",
       "      <td>Raisins can go to hell</td>\n",
       "      <td>White and gold</td>\n",
       "      <td>NaN</td>\n",
       "      <td>Sunday</td>\n",
       "      <td>NaN</td>\n",
       "      <td>1.0</td>\n",
       "      <td>NaN</td>\n",
       "      <td>NaN</td>\n",
       "      <td>(75, 23)</td>\n",
       "    </tr>\n",
       "    <tr>\n",
       "      <th>4</th>\n",
       "      <td>90272841</td>\n",
       "      <td>No</td>\n",
       "      <td>Male</td>\n",
       "      <td>23</td>\n",
       "      <td>usa</td>\n",
       "      <td>exton pa</td>\n",
       "      <td>JOY</td>\n",
       "      <td>DESPAIR</td>\n",
       "      <td>JOY</td>\n",
       "      <td>DESPAIR</td>\n",
       "      <td>...</td>\n",
       "      <td>NaN</td>\n",
       "      <td>NaN</td>\n",
       "      <td>White and gold</td>\n",
       "      <td>NaN</td>\n",
       "      <td>Friday</td>\n",
       "      <td>NaN</td>\n",
       "      <td>1.0</td>\n",
       "      <td>NaN</td>\n",
       "      <td>NaN</td>\n",
       "      <td>(70, 10)</td>\n",
       "    </tr>\n",
       "  </tbody>\n",
       "</table>\n",
       "<p>5 rows × 120 columns</p>\n",
       "</div>"
      ],
      "text/plain": [
       "   Internal ID Q1: GOING OUT? Q2: GENDER Q3: AGE Q4: COUNTRY  \\\n",
       "0     90258773            NaN        NaN     NaN         NaN   \n",
       "1     90272821             No       Male      44        USA    \n",
       "2     90272829            NaN       Male      49         USA   \n",
       "3     90272840             No       Male      40          us   \n",
       "4     90272841             No       Male      23         usa   \n",
       "\n",
       "  Q5: STATE, PROVINCE, COUNTY, ETC Q6 | 100 Grand Bar  \\\n",
       "0                              NaN                NaN   \n",
       "1                               NM                MEH   \n",
       "2                         Virginia                NaN   \n",
       "3                               or                MEH   \n",
       "4                         exton pa                JOY   \n",
       "\n",
       "  Q6 | Anonymous brown globs that come in black and orange wrappers\\t(a.k.a. Mary Janes)  \\\n",
       "0                                                NaN                                       \n",
       "1                                            DESPAIR                                       \n",
       "2                                                NaN                                       \n",
       "3                                            DESPAIR                                       \n",
       "4                                            DESPAIR                                       \n",
       "\n",
       "  Q6 | Any full-sized candy bar Q6 | Black Jacks  ... Q8: DESPAIR OTHER  \\\n",
       "0                           NaN              NaN  ...               NaN   \n",
       "1                           JOY              MEH  ...               NaN   \n",
       "2                           NaN              NaN  ...               NaN   \n",
       "3                           JOY              MEH  ...               NaN   \n",
       "4                           JOY          DESPAIR  ...               NaN   \n",
       "\n",
       "                                  Q9: OTHER COMMENTS      Q10: DRESS  \\\n",
       "0                                                NaN             NaN   \n",
       "1  Bottom line is Twix is really the only candy w...  White and gold   \n",
       "2                                                NaN             NaN   \n",
       "3                             Raisins can go to hell  White and gold   \n",
       "4                                                NaN  White and gold   \n",
       "\n",
       "  Unnamed: 113 Q11: DAY Q12: MEDIA [Daily Dish] Q12: MEDIA [Science]  \\\n",
       "0          NaN      NaN                     NaN                  NaN   \n",
       "1          NaN   Sunday                     NaN                  1.0   \n",
       "2          NaN      NaN                     NaN                  NaN   \n",
       "3          NaN   Sunday                     NaN                  1.0   \n",
       "4          NaN   Friday                     NaN                  1.0   \n",
       "\n",
       "  Q12: MEDIA [ESPN] Q12: MEDIA [Yahoo] Click Coordinates (x, y)  \n",
       "0               NaN                NaN                      NaN  \n",
       "1               NaN                NaN                 (84, 25)  \n",
       "2               NaN                NaN                      NaN  \n",
       "3               NaN                NaN                 (75, 23)  \n",
       "4               NaN                NaN                 (70, 10)  \n",
       "\n",
       "[5 rows x 120 columns]"
      ]
     },
     "execution_count": 3,
     "metadata": {},
     "output_type": "execute_result"
    }
   ],
   "source": [
    "df.head()"
   ]
  },
  {
   "cell_type": "code",
   "execution_count": 4,
   "id": "small-frost",
   "metadata": {},
   "outputs": [
    {
     "data": {
      "text/html": [
       "<div>\n",
       "<style scoped>\n",
       "    .dataframe tbody tr th:only-of-type {\n",
       "        vertical-align: middle;\n",
       "    }\n",
       "\n",
       "    .dataframe tbody tr th {\n",
       "        vertical-align: top;\n",
       "    }\n",
       "\n",
       "    .dataframe thead th {\n",
       "        text-align: right;\n",
       "    }\n",
       "</style>\n",
       "<table border=\"1\" class=\"dataframe\">\n",
       "  <thead>\n",
       "    <tr style=\"text-align: right;\">\n",
       "      <th></th>\n",
       "      <th>Internal ID</th>\n",
       "      <th>Q1: GOING OUT?</th>\n",
       "      <th>Q2: GENDER</th>\n",
       "      <th>Q3: AGE</th>\n",
       "      <th>Q4: COUNTRY</th>\n",
       "      <th>Q5: STATE, PROVINCE, COUNTY, ETC</th>\n",
       "      <th>Q6 | 100 Grand Bar</th>\n",
       "      <th>Q6 | Anonymous brown globs that come in black and orange wrappers\\t(a.k.a. Mary Janes)</th>\n",
       "      <th>Q6 | Any full-sized candy bar</th>\n",
       "      <th>Q6 | Black Jacks</th>\n",
       "      <th>...</th>\n",
       "      <th>Q8: DESPAIR OTHER</th>\n",
       "      <th>Q9: OTHER COMMENTS</th>\n",
       "      <th>Q10: DRESS</th>\n",
       "      <th>Unnamed: 113</th>\n",
       "      <th>Q11: DAY</th>\n",
       "      <th>Q12: MEDIA [Daily Dish]</th>\n",
       "      <th>Q12: MEDIA [Science]</th>\n",
       "      <th>Q12: MEDIA [ESPN]</th>\n",
       "      <th>Q12: MEDIA [Yahoo]</th>\n",
       "      <th>Click Coordinates (x, y)</th>\n",
       "    </tr>\n",
       "  </thead>\n",
       "  <tbody>\n",
       "  </tbody>\n",
       "</table>\n",
       "<p>0 rows × 120 columns</p>\n",
       "</div>"
      ],
      "text/plain": [
       "Empty DataFrame\n",
       "Columns: [Internal ID, Q1: GOING OUT?, Q2: GENDER, Q3: AGE, Q4: COUNTRY, Q5: STATE, PROVINCE, COUNTY, ETC, Q6 | 100 Grand Bar, Q6 | Anonymous brown globs that come in black and orange wrappers\t(a.k.a. Mary Janes), Q6 | Any full-sized candy bar, Q6 | Black Jacks, Q6 | Bonkers (the candy), Q6 | Bonkers (the board game), Q6 | Bottle Caps, Q6 | Box'o'Raisins, Q6 | Broken glow stick, Q6 | Butterfinger, Q6 | Cadbury Creme Eggs, Q6 | Candy Corn, Q6 | Candy that is clearly just the stuff given out for free at restaurants, Q6 | Caramellos, Q6 | Cash, or other forms of legal tender, Q6 | Chardonnay, Q6 | Chick-o-Sticks (we don�t know what that is), Q6 | Chiclets, Q6 | Coffee Crisp, Q6 | Creepy Religious comics/Chick Tracts, Q6 | Dental paraphenalia, Q6 | Dots, Q6 | Dove Bars, Q6 | Fuzzy Peaches, Q6 | Generic Brand Acetaminophen, Q6 | Glow sticks, Q6 | Goo Goo Clusters, Q6 | Good N' Plenty, Q6 | Gum from baseball cards, Q6 | Gummy Bears straight up, Q6 | Hard Candy, Q6 | Healthy Fruit, Q6 | Heath Bar, Q6 | Hershey's Dark Chocolate, Q6 | Hershey�s Milk Chocolate, Q6 | Hershey's Kisses, Q6 | Hugs (actual physical hugs), Q6 | Jolly Rancher (bad flavor), Q6 | Jolly Ranchers (good flavor), Q6 | JoyJoy (Mit Iodine!), Q6 | Junior Mints, Q6 | Senior Mints, Q6 | Kale smoothie, Q6 | Kinder Happy Hippo, Q6 | Kit Kat, Q6 | LaffyTaffy, Q6 | LemonHeads, Q6 | Licorice (not black), Q6 | Licorice (yes black), Q6 | Lindt Truffle, Q6 | Lollipops, Q6 | Mars, Q6 | Maynards, Q6 | Mike and Ike, Q6 | Milk Duds, Q6 | Milky Way, Q6 | Regular M&Ms, Q6 | Peanut M&M�s, Q6 | Blue M&M's, Q6 | Red M&M's, Q6 | Green Party M&M's, Q6 | Independent M&M's, Q6 | Abstained from M&M'ing., Q6 | Minibags of chips, Q6 | Mint Kisses, Q6 | Mint Juleps, Q6 | Mr. Goodbar, Q6 | Necco Wafers, Q6 | Nerds, Q6 | Nestle Crunch, Q6 | Now'n'Laters, Q6 | Peeps, Q6 | Pencils, Q6 | Pixy Stix, Q6 | Real Housewives of Orange County Season 9 Blue-Ray, Q6 | Reese�s Peanut Butter Cups, Q6 | Reese's Pieces, Q6 | Reggie Jackson Bar, Q6 | Rolos, Q6 | Sandwich-sized bags filled with BooBerry Crunch, Q6 | Skittles, Q6 | Smarties (American), Q6 | Smarties (Commonwealth), Q6 | Snickers, Q6 | Sourpatch Kids (i.e. abominations of nature), Q6 | Spotted Dick, Q6 | Starburst, Q6 | Sweet Tarts, Q6 | Swedish Fish, Q6 | Sweetums (a friend to diabetes), Q6 | Take 5, Q6 | Tic Tacs, Q6 | Those odd marshmallow circus peanut things, Q6 | Three Musketeers, ...]\n",
       "Index: []\n",
       "\n",
       "[0 rows x 120 columns]"
      ]
     },
     "execution_count": 4,
     "metadata": {},
     "output_type": "execute_result"
    }
   ],
   "source": [
    "duplicates = df.duplicated()\n",
    "df[duplicates]\n",
    "#no duplicates"
   ]
  },
  {
   "cell_type": "code",
   "execution_count": 5,
   "id": "contrary-beginning",
   "metadata": {},
   "outputs": [
    {
     "data": {
      "text/plain": [
       "No     2038\n",
       "Yes     312\n",
       "NaN     110\n",
       "Name: Q1: GOING OUT?, dtype: int64"
      ]
     },
     "execution_count": 5,
     "metadata": {},
     "output_type": "execute_result"
    }
   ],
   "source": [
    "df['Q1: GOING OUT?'].value_counts(dropna = False)"
   ]
  },
  {
   "cell_type": "code",
   "execution_count": 6,
   "id": "divine-ontario",
   "metadata": {},
   "outputs": [
    {
     "data": {
      "text/plain": [
       "Male                  1467\n",
       "Female                 839\n",
       "I'd rather not say      83\n",
       "NaN                     41\n",
       "Other                   30\n",
       "Name: Q2: GENDER, dtype: int64"
      ]
     },
     "execution_count": 6,
     "metadata": {},
     "output_type": "execute_result"
    }
   ],
   "source": [
    "df['Q2: GENDER'].value_counts(dropna = False)"
   ]
  },
  {
   "cell_type": "code",
   "execution_count": 7,
   "id": "trying-regulation",
   "metadata": {},
   "outputs": [],
   "source": [
    "df.dropna(subset = ['Q2: GENDER'], inplace = True)"
   ]
  },
  {
   "cell_type": "code",
   "execution_count": 8,
   "id": "illegal-trading",
   "metadata": {},
   "outputs": [
    {
     "data": {
      "text/plain": [
       "array(['44', '49', '40', '23', nan, '53', '33', '43', '56', '64', '37',\n",
       "       '59', '48', '54', '36', '45', '25', '34', '35', '38', '58', '50',\n",
       "       '47', '16', '52', '63', '65', '41', '27', '31', '61', '46', '42',\n",
       "       '62', '29', '39', '32', '28', '69', '67', '30', '22', '26', '51',\n",
       "       '70', '24', '18', '19', 'Old enough', '57', '60', '66', '12',\n",
       "       'Many', '55', '72', '?', '21', '11', 'no', '9', '68', '20', '6',\n",
       "       '10', '71', '90', '13', '45-55', '312', '99', '7', 'hahahahaha',\n",
       "       '88', '39.4', '74', '102', 'older than dirt', '17', '15', '8',\n",
       "       '75', '5u', 'Enough', 'See question 2', '24-50', '14', 'Over 50',\n",
       "       '100', '76', '1000', 'sixty-nine', '46 Halloweens.', 'ancient',\n",
       "       '77', 'OLD', 'old', '73', '70 1/2', '1', 'MY NAME JEFF', '4',\n",
       "       '59 on the day after Halloween', 'old enough', 'your mom',\n",
       "       'I can remember when Java was a cool new language', '60+'],\n",
       "      dtype=object)"
      ]
     },
     "execution_count": 8,
     "metadata": {},
     "output_type": "execute_result"
    }
   ],
   "source": [
    "df['Q3: AGE'].unique()"
   ]
  },
  {
   "cell_type": "code",
   "execution_count": 9,
   "id": "underlying-petroleum",
   "metadata": {},
   "outputs": [],
   "source": [
    "df['Q3: AGE'] = pd.to_numeric(df['Q3: AGE'] ,errors='coerce')\n",
    "#removing unwanted strings "
   ]
  },
  {
   "cell_type": "code",
   "execution_count": 10,
   "id": "threaded-pathology",
   "metadata": {},
   "outputs": [
    {
     "data": {
      "text/plain": [
       "1000.0"
      ]
     },
     "execution_count": 10,
     "metadata": {},
     "output_type": "execute_result"
    }
   ],
   "source": [
    "df['Q3: AGE'].max()"
   ]
  },
  {
   "cell_type": "code",
   "execution_count": 11,
   "id": "elementary-increase",
   "metadata": {},
   "outputs": [],
   "source": [
    "df.drop(df[df['Q3: AGE'] > 100].index, inplace = True)\n",
    "#removing irrational values"
   ]
  },
  {
   "cell_type": "code",
   "execution_count": 12,
   "id": "satisfactory-criminal",
   "metadata": {},
   "outputs": [
    {
     "data": {
      "text/plain": [
       "100.0"
      ]
     },
     "execution_count": 12,
     "metadata": {},
     "output_type": "execute_result"
    }
   ],
   "source": [
    "df['Q3: AGE'].max()"
   ]
  },
  {
   "cell_type": "code",
   "execution_count": 13,
   "id": "hungarian-annotation",
   "metadata": {},
   "outputs": [],
   "source": [
    "df['Q3: AGE'].fillna((df['Q3: AGE'].mean()), inplace=True)\n",
    "#replacing NAN values with the mean of the correct values"
   ]
  },
  {
   "cell_type": "code",
   "execution_count": 14,
   "id": "becoming-walker",
   "metadata": {},
   "outputs": [
    {
     "data": {
      "text/plain": [
       "array([ 44.        ,  49.        ,  40.        ,  23.        ,\n",
       "        42.04374199,  53.        ,  33.        ,  43.        ,\n",
       "        56.        ,  64.        ,  37.        ,  59.        ,\n",
       "        48.        ,  54.        ,  36.        ,  45.        ,\n",
       "        25.        ,  34.        ,  35.        ,  38.        ,\n",
       "        58.        ,  50.        ,  47.        ,  16.        ,\n",
       "        52.        ,  63.        ,  65.        ,  41.        ,\n",
       "        27.        ,  31.        ,  61.        ,  46.        ,\n",
       "        42.        ,  62.        ,  29.        ,  39.        ,\n",
       "        32.        ,  28.        ,  69.        ,  67.        ,\n",
       "        30.        ,  22.        ,  26.        ,  51.        ,\n",
       "        70.        ,  24.        ,  18.        ,  19.        ,\n",
       "        57.        ,  60.        ,  66.        ,  12.        ,\n",
       "        55.        ,  72.        ,  21.        ,  11.        ,\n",
       "         9.        ,  68.        ,  20.        ,   6.        ,\n",
       "        10.        ,  71.        ,  90.        ,  13.        ,\n",
       "        99.        ,   7.        ,  88.        ,  39.4       ,\n",
       "        74.        ,  17.        ,  15.        ,   8.        ,\n",
       "        75.        ,  14.        , 100.        ,  76.        ,\n",
       "        77.        ,  73.        ,   1.        ,   4.        ])"
      ]
     },
     "execution_count": 14,
     "metadata": {},
     "output_type": "execute_result"
    }
   ],
   "source": [
    "df['Q3: AGE'].unique()"
   ]
  },
  {
   "cell_type": "code",
   "execution_count": 15,
   "id": "weird-wallace",
   "metadata": {},
   "outputs": [],
   "source": [
    "df['Q3: AGE'] = df['Q3: AGE'].astype(int)\n",
    "#setting the type of the column to int"
   ]
  },
  {
   "cell_type": "code",
   "execution_count": 16,
   "id": "activated-gender",
   "metadata": {},
   "outputs": [],
   "source": [
    "ranges = [0, 14, 24, 64, 101]\n",
    "age_groups = ['Childhood', 'Youth', 'Adulthood', 'Seniority']\n",
    "df['Q3: AGE intervals'] = pd.cut(df['Q3: AGE'], bins = ranges, labels = age_groups)\n",
    "#collapsing the ages to 4 intervals"
   ]
  },
  {
   "cell_type": "code",
   "execution_count": 17,
   "id": "dense-winning",
   "metadata": {
    "scrolled": true
   },
   "outputs": [
    {
     "data": {
      "text/plain": [
       "1       44\n",
       "2       49\n",
       "3       40\n",
       "4       23\n",
       "5       42\n",
       "        ..\n",
       "2455    24\n",
       "2456    33\n",
       "2457    26\n",
       "2458    58\n",
       "2459    66\n",
       "Name: Q3: AGE, Length: 2416, dtype: int32"
      ]
     },
     "execution_count": 17,
     "metadata": {},
     "output_type": "execute_result"
    }
   ],
   "source": [
    "df['Q3: AGE']"
   ]
  },
  {
   "cell_type": "code",
   "execution_count": 18,
   "id": "recorded-monte",
   "metadata": {},
   "outputs": [
    {
     "data": {
      "text/plain": [
       "array(['USA ', 'USA', 'us', 'usa', nan, 'canada', 'Canada', 'Us', 'US',\n",
       "       'Murica', 'United States', 'uk', 'United Kingdom', 'united states',\n",
       "       'Usa', 'United States ', 'United staes',\n",
       "       'United States of America', 'UAE', 'England', 'UK', 'canada ',\n",
       "       'Mexico', 'United states', 'u.s.a.', 'USAUSAUSA', 'america', '35',\n",
       "       'france', 'United States of America ', 'U.S.A.', 'finland',\n",
       "       'unhinged states', 'Canada ', 'united states of america',\n",
       "       'US of A', 'Unites States', 'The United States', 'North Carolina ',\n",
       "       'Unied States', 'Netherlands', 'germany', 'Europe', 'Earth', 'U S',\n",
       "       'u.s.', 'U.K. ', 'Costa Rica', 'The United States of America',\n",
       "       'unite states', 'U.S.', '46', 'cascadia', 'Australia',\n",
       "       'insanity lately', 'Greece', 'USA? Hard to tell anymore..',\n",
       "       \"'merica\", 'usas', 'Pittsburgh', '45', 'United State', '32',\n",
       "       'France', 'australia', 'Can', 'Canae', 'New York', 'Trumpistan',\n",
       "       'Ireland', 'United Sates', 'Korea', 'California', 'Japan', 'USa',\n",
       "       'South africa',\n",
       "       'I pretend to be from Canada, but I am really from the United States.',\n",
       "       'Usa ', 'Uk', 'Iceland', 'Germany', 'Canada`', 'Scotland', 'UK ',\n",
       "       'Denmark', 'United Stated', 'France ', 'Switzerland',\n",
       "       'Ahem....Amerca', 'UD', 'Scotland ', 'South Korea', 'New Jersey',\n",
       "       'CANADA', 'Indonesia', 'United ststes', 'America',\n",
       "       'The Netherlands', 'United Statss', 'endland', 'murrika',\n",
       "       'USA! USA! USA!', 'USAA', 'Alaska', 'united States ',\n",
       "       'soviet canuckistan', 'N. America', 'Singapore', 'USSA', 'China',\n",
       "       'Taiwan', 'Ireland ', 'hong kong', 'spain', 'Sweden', 'Hong Kong',\n",
       "       'U.S. ', 'Narnia', 'u s a', 'United Statea', 'united ststes', '1',\n",
       "       'subscribe to dm4uz3 on youtube', 'United kingdom',\n",
       "       'USA USA USA!!!!', \"I don't know anymore\", 'Fear and Loathing'],\n",
       "      dtype=object)"
      ]
     },
     "execution_count": 18,
     "metadata": {},
     "output_type": "execute_result"
    }
   ],
   "source": [
    "df['Q4: COUNTRY'].unique()"
   ]
  },
  {
   "cell_type": "code",
   "execution_count": 19,
   "id": "similar-white",
   "metadata": {},
   "outputs": [],
   "source": [
    "df['Q4: COUNTRY'] = df['Q4: COUNTRY'].str.lower()\n",
    "df['Q4: COUNTRY'] = df['Q4: COUNTRY'].str.strip()"
   ]
  },
  {
   "cell_type": "code",
   "execution_count": 20,
   "id": "formal-provider",
   "metadata": {},
   "outputs": [
    {
     "data": {
      "text/plain": [
       "array(['usa', 'us', nan, 'canada', 'murica', 'united states', 'uk',\n",
       "       'united kingdom', 'united staes', 'united states of america',\n",
       "       'uae', 'england', 'mexico', 'u.s.a.', 'usausausa', 'america', '35',\n",
       "       'france', 'finland', 'unhinged states', 'us of a', 'unites states',\n",
       "       'the united states', 'north carolina', 'unied states',\n",
       "       'netherlands', 'germany', 'europe', 'earth', 'u s', 'u.s.', 'u.k.',\n",
       "       'costa rica', 'the united states of america', 'unite states', '46',\n",
       "       'cascadia', 'australia', 'insanity lately', 'greece',\n",
       "       'usa? hard to tell anymore..', \"'merica\", 'usas', 'pittsburgh',\n",
       "       '45', 'united state', '32', 'can', 'canae', 'new york',\n",
       "       'trumpistan', 'ireland', 'united sates', 'korea', 'california',\n",
       "       'japan', 'south africa',\n",
       "       'i pretend to be from canada, but i am really from the united states.',\n",
       "       'iceland', 'canada`', 'scotland', 'denmark', 'united stated',\n",
       "       'switzerland', 'ahem....amerca', 'ud', 'south korea', 'new jersey',\n",
       "       'indonesia', 'united ststes', 'the netherlands', 'united statss',\n",
       "       'endland', 'murrika', 'usa! usa! usa!', 'usaa', 'alaska',\n",
       "       'soviet canuckistan', 'n. america', 'singapore', 'ussa', 'china',\n",
       "       'taiwan', 'hong kong', 'spain', 'sweden', 'narnia', 'u s a',\n",
       "       'united statea', '1', 'subscribe to dm4uz3 on youtube',\n",
       "       'usa usa usa!!!!', \"i don't know anymore\", 'fear and loathing'],\n",
       "      dtype=object)"
      ]
     },
     "execution_count": 20,
     "metadata": {},
     "output_type": "execute_result"
    }
   ],
   "source": [
    "df['Q4: COUNTRY'].unique()"
   ]
  },
  {
   "cell_type": "code",
   "execution_count": 21,
   "id": "square-sterling",
   "metadata": {},
   "outputs": [],
   "source": [
    "mapping = {'us' : 'usa', 'murica' : 'usa', 'united states' : 'usa', \n",
    "           'united staes' : 'usa', 'united states of america' : 'usa', \n",
    "           'u.s.a.' : 'usa', 'usausausa' : 'america', \n",
    "           'unhinged states' : 'usa', 'us of a' : 'usa',\n",
    "           'unites states' : 'usa', 'the united states' : 'usa', \n",
    "           'north carolina' : 'usa', 'unied states' : 'usa',\n",
    "           'u s' : 'usa', 'u.s.' : 'usa', 'the united states of america' : 'usa', \n",
    "           'unite states' : 'usa',\n",
    "           'usa? hard to tell anymore..' : 'usa', \"'merica\" : 'usa',\n",
    "           'usas' : 'usa', 'united state' : 'usa',\n",
    "           'california' : 'usa',\n",
    "           'i pretend to be from canada, but i am really from the united states.' : 'usa',}\n",
    "df['Q4: COUNTRY'] = df['Q4: COUNTRY'].replace(mapping)\n",
    "#mapping typos to correct values"
   ]
  },
  {
   "cell_type": "code",
   "execution_count": 22,
   "id": "simplified-adams",
   "metadata": {
    "scrolled": true
   },
   "outputs": [
    {
     "data": {
      "text/plain": [
       "array(['usa', nan, 'canada', 'uk', 'united kingdom', 'uae', 'england',\n",
       "       'mexico', 'america', '35', 'france', 'finland', 'netherlands',\n",
       "       'germany', 'europe', 'earth', 'u.k.', 'costa rica', '46',\n",
       "       'cascadia', 'australia', 'insanity lately', 'greece', 'pittsburgh',\n",
       "       '45', '32', 'can', 'canae', 'new york', 'trumpistan', 'ireland',\n",
       "       'united sates', 'korea', 'japan', 'south africa', 'iceland',\n",
       "       'canada`', 'scotland', 'denmark', 'united stated', 'switzerland',\n",
       "       'ahem....amerca', 'ud', 'south korea', 'new jersey', 'indonesia',\n",
       "       'united ststes', 'the netherlands', 'united statss', 'endland',\n",
       "       'murrika', 'usa! usa! usa!', 'usaa', 'alaska',\n",
       "       'soviet canuckistan', 'n. america', 'singapore', 'ussa', 'china',\n",
       "       'taiwan', 'hong kong', 'spain', 'sweden', 'narnia', 'u s a',\n",
       "       'united statea', '1', 'subscribe to dm4uz3 on youtube',\n",
       "       'usa usa usa!!!!', \"i don't know anymore\", 'fear and loathing'],\n",
       "      dtype=object)"
      ]
     },
     "execution_count": 22,
     "metadata": {},
     "output_type": "execute_result"
    }
   ],
   "source": [
    "df['Q4: COUNTRY'].unique()"
   ]
  },
  {
   "cell_type": "code",
   "execution_count": 23,
   "id": "continuing-freeze",
   "metadata": {},
   "outputs": [],
   "source": [
    "mapping = {'america' : 'usa', 'new york' : 'usa', 'trumpistan' : 'usa',\n",
    "        'united sates' : 'usa', 'united stated' : 'usa', 'ahem....amerca' : 'usa'\n",
    "          , 'ud' : 'usa', 'new jersey' : 'usa', 'united ststes' : 'usa',\n",
    "          'murrika': 'usa', 'usa! usa! usa!': 'usa', 'usaa': 'usa',\n",
    "           'alaska': 'usa', 'n. america': 'usa',\n",
    "           'ussa': 'usa', 'u s a': 'usa', 'united statea': 'usa', 'usa usa usa!!!!': 'usa',\n",
    "          'united statss': 'usa', 'united kingdom': 'uk', 'u.k.': 'uk',\n",
    "          'can': 'canada', 'canada`': 'canada', 'the netherlands': 'netherlands',\n",
    "          'endland' : 'uk'}\n",
    "df['Q4: COUNTRY'] = df['Q4: COUNTRY'].replace(mapping)"
   ]
  },
  {
   "cell_type": "code",
   "execution_count": 24,
   "id": "challenging-broadway",
   "metadata": {},
   "outputs": [
    {
     "data": {
      "text/plain": [
       "usa                               2041\n",
       "canada                             224\n",
       "uk                                  34\n",
       "NaN                                 32\n",
       "germany                             10\n",
       "australia                            7\n",
       "netherlands                          7\n",
       "scotland                             5\n",
       "japan                                5\n",
       "mexico                               4\n",
       "ireland                              4\n",
       "france                               3\n",
       "switzerland                          3\n",
       "sweden                               2\n",
       "hong kong                            2\n",
       "denmark                              2\n",
       "china                                2\n",
       "i don't know anymore                 1\n",
       "iceland                              1\n",
       "england                              1\n",
       "32                                   1\n",
       "fear and loathing                    1\n",
       "35                                   1\n",
       "45                                   1\n",
       "soviet canuckistan                   1\n",
       "canae                                1\n",
       "singapore                            1\n",
       "south korea                          1\n",
       "korea                                1\n",
       "earth                                1\n",
       "insanity lately                      1\n",
       "costa rica                           1\n",
       "spain                                1\n",
       "cascadia                             1\n",
       "south africa                         1\n",
       "finland                              1\n",
       "narnia                               1\n",
       "taiwan                               1\n",
       "1                                    1\n",
       "europe                               1\n",
       "pittsburgh                           1\n",
       "greece                               1\n",
       "46                                   1\n",
       "uae                                  1\n",
       "indonesia                            1\n",
       "subscribe to dm4uz3 on youtube       1\n",
       "Name: Q4: COUNTRY, dtype: int64"
      ]
     },
     "execution_count": 24,
     "metadata": {},
     "output_type": "execute_result"
    }
   ],
   "source": [
    "df['Q4: COUNTRY'].value_counts(dropna = False)"
   ]
  },
  {
   "cell_type": "code",
   "execution_count": 25,
   "id": "spread-corpus",
   "metadata": {},
   "outputs": [],
   "source": [
    "mapping = {'earth': np.nan, 'subscribe to dm4uz3 on youtube': np.nan, 'fear and loathing': np.nan, 'england': np.nan,\n",
    "          'europe': np.nan, 'canae': np.nan, 'insanity lately': np.nan, \n",
    "          'pittsburgh': np.nan, 'cascadia': np.nan, 'narnia': np.nan,\n",
    "          \"i don't know anymore\": np.nan, '1' : np.nan, \n",
    "          '46': np.nan, '35': np.nan, '45': np.nan, '32': np.nan, 'soviet canuckistan': np.nan\n",
    "          ,'korea' : np.nan}\n",
    "df['Q4: COUNTRY'] = df['Q4: COUNTRY'].replace(mapping)"
   ]
  },
  {
   "cell_type": "code",
   "execution_count": 26,
   "id": "retired-steel",
   "metadata": {},
   "outputs": [],
   "source": [
    "df.dropna(subset = ['Q4: COUNTRY'], inplace = True)"
   ]
  },
  {
   "cell_type": "code",
   "execution_count": 27,
   "id": "composed-facing",
   "metadata": {},
   "outputs": [
    {
     "data": {
      "text/plain": [
       "usa             2041\n",
       "canada           224\n",
       "uk                34\n",
       "germany           10\n",
       "australia          7\n",
       "netherlands        7\n",
       "japan              5\n",
       "scotland           5\n",
       "mexico             4\n",
       "ireland            4\n",
       "france             3\n",
       "switzerland        3\n",
       "sweden             2\n",
       "hong kong          2\n",
       "china              2\n",
       "denmark            2\n",
       "iceland            1\n",
       "indonesia          1\n",
       "singapore          1\n",
       "uae                1\n",
       "greece             1\n",
       "taiwan             1\n",
       "finland            1\n",
       "south africa       1\n",
       "spain              1\n",
       "costa rica         1\n",
       "south korea        1\n",
       "Name: Q4: COUNTRY, dtype: int64"
      ]
     },
     "execution_count": 27,
     "metadata": {},
     "output_type": "execute_result"
    }
   ],
   "source": [
    "df['Q4: COUNTRY'].value_counts(dropna = False)"
   ]
  },
  {
   "cell_type": "code",
   "execution_count": 28,
   "id": "french-immune",
   "metadata": {},
   "outputs": [
    {
     "data": {
      "text/plain": [
       "array(['NM', 'VIRGINIA', 'OR', 'EXTON PA', 'COLORADO', 'ONTARIO', 'WA',\n",
       "       'QUEBEC', 'NY', 'CALIFORNIA', 'TEXAS', 'NEW YORK', 'CO', 'IN',\n",
       "       'MN', 'ABERDEENSHIRE', 'ALBERTA', 'WISCONSIN, 53705', 'RI', 'NC',\n",
       "       'SCOTLAND', 'MINNESOTA', 'MICHIGAN', 'FLORIDA', 'NEW JERSEY', 'VA',\n",
       "       'LOS ANGELES, CALIFORNIA', 'CA', 'CHICAGO, ILLINOIS', 'NJ',\n",
       "       'WISCONSIN', nan, 'LONDON', 'ILLINOIS', 'DISTRICT OF COLUMBIA',\n",
       "       'WASHINGTON', 'MASSACHUSETTS', 'MONTANA', 'ABU DHABI', 'TX',\n",
       "       'ARIZONA', 'DC', 'YUKON', 'PENNSYLVANIA', 'MD', 'OHIO', 'IOWA',\n",
       "       'TN', 'BC', 'MARYLAND', 'MI', 'ALASKA',\n",
       "       'COLORADO, JEFFERSON COUNTY', 'LOUISIANA', 'PA',\n",
       "       'CO, LARIMER COUNTY', 'NEBRASKA', 'OREGON', 'UT', 'CDMX',\n",
       "       'NORTH CAROLINA', 'TENNESSEE', 'KNOX COUNTY, TENNESSEE',\n",
       "       'NEW MEXICO', 'MAINE', 'VIRGINIA, ARLINGTON', 'MO', 'MA',\n",
       "       'NEW YORK, NY', 'IL', 'NEW HAMPSHIRE', 'GEORGIA',\n",
       "       'WASHINGTON, CLARK', 'NE', 'OKLAHOMA', 'SC', 'NEVADA',\n",
       "       'VANCOUVER, BC',\n",
       "       'OREGON - BUT WILL BE IN WASHINGTON FOR HALLOWEEN',\n",
       "       'WASHINGTON, KING', 'RHODE ISLAND', 'VT, CHITTENDEN', 'ALABAMA',\n",
       "       'GA', 'FL, ORANGE COUNTY', 'NOPE', 'MANITOBA', 'SOUTH CAROLINA',\n",
       "       'BAJA CALIFORNIA', 'SANTA CRUZ COUNTY, CALIFORNIA', 'NORTH DAKOTA',\n",
       "       'PENNSYLVANIA, MONTGOMERY COUNTY', 'ASTORIA NY', 'KANSAS', 'SK',\n",
       "       'MISSOURI', 'OXFORDSHIRE', 'BRITISH COLUMBIA', 'WEST VIRGINIA',\n",
       "       'HARRIS COUNTY, TEXAS', 'USA', 'PHILADELPHIA', 'KENTUCKY', 'HI',\n",
       "       'SOUTH HOLLAND', 'DERBYSHIRE', 'HESSE',\n",
       "       'MASSACHUSETTS, PLYMOUTH COUNTY', 'CALI', 'VT', 'CA, ALAMEDA',\n",
       "       'UTAH', 'FL', 'MICHIGAN, SHIAWASSEE COUNTY', 'NEWFOUNDLAND',\n",
       "       'INDIANA', 'IDAHO ADA', 'LA', 'HAWAII', 'CALIFORNIA, ALAMEDA',\n",
       "       'AZ', 'ALAMEDA COUNTY, CALIFORNIA', 'GREATER LONDON', 'AB',\n",
       "       'WV, KANAWHA COUNTY', 'WASHINGTON STATE', 'SUSSEX',\n",
       "       'WASHINGTON, KING COUNTY', 'SAN JOSE', 'CONNECTICUT',\n",
       "       'ORLANDO, FL', 'ON', 'SASKATCHEWAN', 'MISSISSIPPI', 'MANCHESTER',\n",
       "       'SYDNEY', 'CT', 'NUNYA, BIZNESS, USA', 'OH', 'OAKLAND, CALIFORNIA',\n",
       "       'WASHINGTON, SEATTLE, KING', 'ONTARIO,  CANADA',\n",
       "       'PHOENIX, MARICOPA COUNTY, ARIZONA', 'MERLIN', 'NS',\n",
       "       'WASHINGTON STATE, KITSAP COUNTY', 'CAILIFORNIA', 'OAKLAND,CA',\n",
       "       'QC', 'MASSACHUSSETS', 'WHATCOM COUNTY, WA', 'MT', 'NH',\n",
       "       'MICHIGIN', 'KS', 'OAKLAND COUNTY, MICHIGAN', 'ALBEQRRTA', 'MARNE',\n",
       "       'NOORD-HOLLAND', 'TENNESSEE, KNOX COUNTY', 'HENRICO, VA',\n",
       "       'WASHINGTON STATE, KING COUNTY, CITY OF SEATTLE', 'WASHINGTON, DC',\n",
       "       'NYC', 'BROOKLYN', 'QLD', 'SANTA BARBARA CO. CALIFORNIA', 'KY',\n",
       "       'NEW ORLEANS LA', 'COLORADO, BOULDER', 'GREATER MANCHESTER',\n",
       "       'FIFE, SCOTLAND', 'KALAMAZOO COUNTY, MI', 'WI', 'WV',\n",
       "       'ULSTER COUNTY, NY', 'NJ, GLOUCESTER', 'CALIF', 'MS', 'NB',\n",
       "       'QUEENS', 'VERMONT', 'KILDARE', 'ND', 'WASHINGTON DC',\n",
       "       'KINGS, NEW YORK', 'COOK', 'TORONTO, ONTARIO', 'VICTORIA',\n",
       "       'NOVA SCOTIA', 'TEHAMA', 'SUFFOLK COUNTY NY',\n",
       "       'SANTA CLARA COUNTY, CALIFORNIA', 'SD', 'MISSOURE', 'IA',\n",
       "       'COLORADO LARIMER COUNTY', 'TOKYO', 'NEW MEXICO, USA', 'ONT',\n",
       "       'CALIFOR', 'IDAHO', 'NV', 'BROOKLYN, KINGS COUNTY NY',\n",
       "       'KING COUNTY, WASHINGTON', 'WASHINGTON, ISLAND COUNTY',\n",
       "       'KWAZULU-NATAL', 'CARVER COUNTY, MN', 'DUTCHESS COUNTY NY',\n",
       "       'WYOMING', 'BRISTOL', 'CALIFORNIA, SAN FRANCISCO',\n",
       "       'GLENDORA, LOS ANGELES, CALIFORNIA', 'EDINBURGH', 'STRATHCLYDE',\n",
       "       'LANCASIRE', '�RB�K', 'PR', 'IDF', 'ZUID HOLLAND', 'OSAKA',\n",
       "       'SURREY', 'NORTHERN IRELAND', 'VAUD', 'SEE QUESTION 2',\n",
       "       'MIDLOTHIAN', 'DURHAM COUNTY, NORTH CAROLINA',\n",
       "       'MISSOURI, MILLER COUNTY', 'GLASGOW', 'CUYAHOGA COUNTY, OHIO',\n",
       "       'SEOUL', 'CANADA', 'KANAGAWA', 'THE SHORE', 'DEVONSHIRE', 'TX.',\n",
       "       'JAKARTA', 'MANNHEIM, BADEN-W�RTTEMBERG', '|NC', 'ROTTERDAM', 'AR',\n",
       "       'ARKANSAS', 'RENTON,WA', 'N-BRABANT', 'GREIFSWALD',\n",
       "       'BRITISH COLUMBIA, CANADA', 'KENT', 'HESSEN', 'NOYB',\n",
       "       'SOUTH DAKOTA', 'NEW YORK, NEW YORK', 'WA, SPOKANE',\n",
       "       'BUNCOMBE COUNTY, NORTH CAROLINA', 'CALIFORNIA, SAN DIEGO',\n",
       "       'CALIFORNIA, VENTURA COUNTY', 'NY, TOMPKINS COUNTY',\n",
       "       'ARLINGTON, VA', 'PORTLAND, MAINE', 'NSW', 'CALIFORMIA',\n",
       "       'MEXICO CITY', 'GA - GEORGIA', 'OREGON, MULTNOMAH COUNTY',\n",
       "       'VANCOUVER, WA', 'ATLANTA, GA', 'SINGAPORE', 'COLORADO (CO)',\n",
       "       'DONA ANA COUNTY, NEW MEXICO', 'UT, SALT LAKE',\n",
       "       'CALIFORNIA, CONTRA COSTA COUNTY, PLEASANT HILL',\n",
       "       'SHANGHAI, CHANG NING DISTRICT', 'MONROE COUNTY', 'HONG KONG',\n",
       "       'WASHINGTO', 'DUBLIN', 'CALIFORNIA, MENDOCINO COUNTY', 'NA',\n",
       "       'MADRID', 'NOORD-BRABANT', 'SKANE', 'Z�RICH', 'TREE TOWN, USA',\n",
       "       'PHILADELPHIA, PA', 'BRISTOL COUNTY, RHODE ISLAND',\n",
       "       'NEWFOUNDLAND AND LABRADOR', 'OSHAWA, ONTARIO, CANADA', 'NL',\n",
       "       'NJ; ESSEX', 'DELAWARE', 'MICH', 'QU�BEC', 'ORANGE COUNTY, CA',\n",
       "       'BERKELEY, CA', 'CALIFORNIA, USA', 'ST. LOUIS COUNTY, MISSOURI',\n",
       "       'MUNSTER', 'CHICAGO, IL', 'PHILADELPHIA PA',\n",
       "       'RAPPAHANNOCK COUNTY, VA', 'OK', 'ILL', 'STOCKHOLM',\n",
       "       'NEW YORK COUNTY, NEW YORK CITY, NEW YORK STATE', 'CHICAGO',\n",
       "       'WEST YORKSHIRE', 'BERLIN', 'ALASKA, MATANUSKA-SUSITNA BOROUGH',\n",
       "       'MARIETTA, GA', 'NORTHBROOK, IL', 'NORTHAMPTON COUNTY, PA',\n",
       "       'PA.   NORTHAMPTON COUNTY', 'CALIFORNIA, SAN DIEGO COUNTY',\n",
       "       'BLOOMINGTON, IN', 'QUENEC', 'LONDOM', 'ST. AUGUSTINE FLORIDA',\n",
       "       'PENNSYLVANIA, NORTHAMPTON COUNY, EASTON', 'ST LOUIS MO'],\n",
       "      dtype=object)"
      ]
     },
     "execution_count": 28,
     "metadata": {},
     "output_type": "execute_result"
    }
   ],
   "source": [
    "df['Q5: STATE, PROVINCE, COUNTY, ETC'] = df['Q5: STATE, PROVINCE, COUNTY, ETC'].str.upper()\n",
    "df['Q5: STATE, PROVINCE, COUNTY, ETC'] = df['Q5: STATE, PROVINCE, COUNTY, ETC'].str.strip()\n",
    "df['Q5: STATE, PROVINCE, COUNTY, ETC'].unique()\n",
    "#too many values, can't use mapping"
   ]
  },
  {
   "cell_type": "code",
   "execution_count": 29,
   "id": "aware-qatar",
   "metadata": {},
   "outputs": [],
   "source": [
    "states = ['Alabama', 'Alaska', 'American Samoa', 'Arizona', 'Arkansas', 'California', 'Colorado', 'Connecticut', 'Delaware', 'District of Columbia', 'Florida', 'Georgia', 'Guam', 'Hawaii', 'Idaho', 'Illinois', 'Indiana', 'Iowa', 'Kansas', 'Kentucky', 'Louisiana', 'Maine', 'Maryland', 'Massachusetts', 'Michigan', 'Minnesota', 'Minor Outlying Islands', 'Mississippi', 'Missouri', 'Montana', 'Nebraska', 'Nevada', 'New Hampshire', 'New Jersey', 'New Mexico', 'New York', 'North Carolina', 'North Dakota', 'Northern Mariana Islands', 'Ohio', 'Oklahoma', 'Oregon', 'Pennsylvania', 'Puerto Rico', 'Rhode Island', 'South Carolina', 'South Dakota', 'Tennessee', 'Texas', 'U.S. Virgin Islands', 'Utah', 'Vermont', 'Virginia', 'Washington', 'West Virginia', 'Wisconsin', 'Wyoming'\n",
    "         , 'Scotland', 'Abu Dhabi', 'Stockholm']\n",
    "#some correct values, using string comparison"
   ]
  },
  {
   "cell_type": "code",
   "execution_count": 30,
   "id": "controlled-craps",
   "metadata": {},
   "outputs": [],
   "source": [
    "for state in states:\n",
    "    matches = process.extract(state, df['Q5: STATE, PROVINCE, COUNTY, ETC'], limit = df.shape[0])\n",
    "    for potential_match in matches:\n",
    "        if potential_match[1] >= 80:\n",
    "            df.loc[df['Q5: STATE, PROVINCE, COUNTY, ETC'] == potential_match[0], 'Q5: STATE, PROVINCE, COUNTY, ETC'] = state\n"
   ]
  },
  {
   "cell_type": "code",
   "execution_count": 31,
   "id": "frozen-johns",
   "metadata": {},
   "outputs": [
    {
     "data": {
      "text/plain": [
       "array(['NM', 'West Virginia', 'California', 'EXTON PA', 'Colorado',\n",
       "       'ONTARIO', 'Delaware', 'QUEBEC', 'NY', 'Texas', 'New York',\n",
       "       'Illinois', 'MN', 'ABERDEENSHIRE', 'ALBERTA', 'Wisconsin',\n",
       "       'American Samoa', 'NC', 'Scotland', 'Minnesota', 'Michigan',\n",
       "       'Florida', 'New Jersey', 'Nevada', 'NJ', nan, 'LONDON',\n",
       "       'District of Columbia', 'Washington', 'Massachusetts', 'Montana',\n",
       "       'Abu Dhabi', 'TX', 'Arizona', 'DC', 'YUKON', 'Pennsylvania', 'MD',\n",
       "       'Ohio', 'Iowa', 'TN', 'BC', 'Maryland', 'Alaska', 'Louisiana',\n",
       "       'PA', 'CO, LARIMER COUNTY', 'Nebraska', 'Oregon', 'Connecticut',\n",
       "       'CDMX', 'South Carolina', 'Tennessee', 'New Mexico', 'Maine',\n",
       "       'Alabama', 'Georgia', 'Oklahoma', 'VANCOUVER, BC', 'Rhode Island',\n",
       "       'VT, CHITTENDEN', 'FL, ORANGE COUNTY', 'NOPE', 'MANITOBA',\n",
       "       'South Dakota', 'ASTORIA NY', 'Kansas', 'Missouri', 'OXFORDSHIRE',\n",
       "       'BRITISH COLUMBIA', 'USA', 'PHILADELPHIA', 'Kentucky',\n",
       "       'SOUTH HOLLAND', 'DERBYSHIRE', 'HESSE', 'VT', 'CA, ALAMEDA',\n",
       "       'Utah', 'NEWFOUNDLAND', 'Indiana', 'Idaho', 'Hawaii', 'AZ',\n",
       "       'GREATER LONDON', 'WV, KANAWHA COUNTY', 'SUSSEX', 'SAN JOSE',\n",
       "       'ORLANDO, FL', 'SASKATCHEWAN', 'Mississippi', 'MANCHESTER',\n",
       "       'SYDNEY', 'NUNYA, BIZNESS, USA', 'ONTARIO,  CANADA', 'MERLIN',\n",
       "       'OAKLAND,CA', 'QC', 'WHATCOM COUNTY, WA', 'MT', 'NH', 'KS',\n",
       "       'ALBEQRRTA', 'NOORD-HOLLAND', 'HENRICO, VA', 'NYC', 'BROOKLYN',\n",
       "       'QLD', 'GREATER MANCHESTER', 'KALAMAZOO COUNTY, MI', 'WV',\n",
       "       'ULSTER COUNTY, NY', 'NJ, GLOUCESTER', 'MS', 'NB', 'QUEENS',\n",
       "       'Vermont', 'KILDARE', 'COOK', 'TORONTO, ONTARIO', 'VICTORIA',\n",
       "       'NOVA SCOTIA', 'TEHAMA', 'SUFFOLK COUNTY NY', 'SD', 'TOKYO', 'NV',\n",
       "       'BROOKLYN, KINGS COUNTY NY', 'KWAZULU-NATAL', 'CARVER COUNTY, MN',\n",
       "       'DUTCHESS COUNTY NY', 'Wyoming', 'BRISTOL', 'EDINBURGH',\n",
       "       'STRATHCLYDE', 'LANCASIRE', '�RB�K', 'PR', 'IDF', 'ZUID HOLLAND',\n",
       "       'OSAKA', 'SURREY', 'Northern Mariana Islands', 'VAUD',\n",
       "       'SEE QUESTION 2', 'MIDLOTHIAN', 'GLASGOW', 'SEOUL', 'CANADA',\n",
       "       'KANAGAWA', 'THE SHORE', 'DEVONSHIRE', 'TX.', 'JAKARTA',\n",
       "       'MANNHEIM, BADEN-W�RTTEMBERG', '|NC', 'ROTTERDAM', 'RENTON,WA',\n",
       "       'N-BRABANT', 'GREIFSWALD', 'BRITISH COLUMBIA, CANADA', 'HESSEN',\n",
       "       'NOYB', 'WA, SPOKANE', 'NY, TOMPKINS COUNTY', 'ARLINGTON, VA',\n",
       "       'NSW', 'MEXICO CITY', 'VANCOUVER, WA', 'ATLANTA, GA', 'SINGAPORE',\n",
       "       'UT, SALT LAKE', 'SHANGHAI, CHANG NING DISTRICT', 'MONROE COUNTY',\n",
       "       'HONG KONG', 'DUBLIN', 'MADRID', 'NOORD-BRABANT', 'SKANE',\n",
       "       'Z�RICH', 'TREE TOWN, USA', 'PHILADELPHIA, PA',\n",
       "       'NEWFOUNDLAND AND LABRADOR', 'OSHAWA, ONTARIO, CANADA', 'NL',\n",
       "       'NJ; ESSEX', 'QU�BEC', 'ORANGE COUNTY, CA', 'BERKELEY, CA',\n",
       "       'MUNSTER', 'CHICAGO, IL', 'PHILADELPHIA PA',\n",
       "       'RAPPAHANNOCK COUNTY, VA', 'Stockholm', 'CHICAGO',\n",
       "       'WEST YORKSHIRE', 'BERLIN', 'MARIETTA, GA', 'NORTHBROOK, IL',\n",
       "       'NORTHAMPTON COUNTY, PA', 'PA.   NORTHAMPTON COUNTY',\n",
       "       'BLOOMINGTON, IN', 'QUENEC', 'LONDOM', 'ST LOUIS MO'], dtype=object)"
      ]
     },
     "execution_count": 31,
     "metadata": {},
     "output_type": "execute_result"
    }
   ],
   "source": [
    "df['Q5: STATE, PROVINCE, COUNTY, ETC'].unique()"
   ]
  },
  {
   "cell_type": "code",
   "execution_count": 32,
   "id": "worst-tractor",
   "metadata": {},
   "outputs": [],
   "source": [
    "abbs = {\"AL\":\"Alabama\",\"AK\":\"Alaska\",\"AZ\":\"Arizona\",\"AR\":\"Arkansas\",\"CA\":\"California\",\"CO\":\"Colorado\",\"CT\":\"Connecticut\",\"DE\":\"Delaware\",\"FL\":\"Florida\",\"GA\":\"Georgia\",\"HI\":\"Hawaii\",\"ID\":\"Idaho\",\"IL\":\"Illinois\",\"IN\":\"Indiana\",\"IA\":\"Iowa\",\"KS\":\"Kansas\",\"KY\":\"Kentucky\",\"LA\":\"Louisiana\",\"ME\":\"Maine\",\"MD\":\"Maryland\",\"MA\":\"Massachusetts\",\"MI\":\"Michigan\",\"MN\":\"Minnesota\",\"MS\":\"Mississippi\",\"MO\":\"Missouri\",\"MT\":\"Montana\",\"NE\":\"Nebraska\",\"NV\":\"Nevada\",\"NH\":\"New Hampshire\",\"NJ\":\"New Jersey\",\"NM\":\"New Mexico\",\"NY\":\"New York\",\"NC\":\"North Carolina\",\"ND\":\"North Dakota\",\"OH\":\"Ohio\",\"OK\":\"Oklahoma\",\"OR\":\"Oregon\",\"PA\":\"Pennsylvania\",\"RI\":\"Rhode Island\",\"SC\":\"South Carolina\",\"SD\":\"South Dakota\",\"TN\":\"Tennessee\",\"TX\":\"Texas\",\"UT\":\"Utah\",\"VT\":\"Vermont\",\"VA\":\"Virginia\",\"WA\":\"Washington\",\"WV\":\"West Virginia\",\"WI\":\"Wisconsin\",\"WY\":\"Wyoming\"}\n",
    "states = [\"AL\",\"AK\",\"AZ\",\"AR\",\"CA\",\"CO\",\"CT\",\"DE\",\"FL\",\"GA\",\"HI\",\"ID\",\"IL\",\"IN\",\"IA\",\"KS\",\"KY\",\"LA\",\"ME\",\"MD\",\"MA\",\"MI\",\"MN\",\"MS\",\"MO\",\"MT\",\"NE\",\"NV\",\"NH\",\"NJ\",\"NM\",\"NY\",\"NC\",\"ND\",\"OH\",\"OK\",\"OR\",\"PA\",\"RI\",\"SC\",\"SD\",\"TN\",\"TX\",\"UT\",\"VT\",\"VA\",\"WA\",\"WV\",\"WI\",\"WY\"]\n",
    "for state in states:\n",
    "    matches = process.extract(state, df['Q5: STATE, PROVINCE, COUNTY, ETC'], limit = df.shape[0])\n",
    "    for potential_match in matches:\n",
    "        if potential_match[1] >= 80:\n",
    "            df.loc[df['Q5: STATE, PROVINCE, COUNTY, ETC'] == potential_match[0], 'Q5: STATE, PROVINCE, COUNTY, ETC'] = abbs[state]"
   ]
  },
  {
   "cell_type": "code",
   "execution_count": 33,
   "id": "operating-lawrence",
   "metadata": {},
   "outputs": [
    {
     "data": {
      "text/plain": [
       "array(['New Mexico', 'Washington', 'Louisiana', 'Virginia', 'Oregon',\n",
       "       'Arkansas', 'QUEBEC', 'Texas', 'Nebraska', 'Idaho', 'New Jersey',\n",
       "       nan, 'District of Columbia', 'Massachusetts', 'Rhode Island',\n",
       "       'Abu Dhabi', 'DC', 'YUKON', 'Tennessee', 'BC',\n",
       "       'CO, LARIMER COUNTY', 'CDMX', 'FL, ORANGE COUNTY', 'NOPE',\n",
       "       'Kansas', 'Michigan', 'USA', 'Kentucky', 'HESSE', 'Vermont',\n",
       "       'Utah', 'WV, KANAWHA COUNTY', 'SUSSEX', 'SAN JOSE',\n",
       "       'NUNYA, BIZNESS, USA', 'QC', 'WHATCOM COUNTY, WA', 'Montana',\n",
       "       'New Hampshire', 'Oklahoma', 'QLD', 'GREATER MANCHESTER',\n",
       "       'KALAMAZOO COUNTY, MI', 'West Virginia', 'ULSTER COUNTY, NY',\n",
       "       'Mississippi', 'NB', 'QUEENS', 'SUFFOLK COUNTY NY',\n",
       "       'BROOKLYN, KINGS COUNTY NY', 'CARVER COUNTY, MN',\n",
       "       'DUTCHESS COUNTY NY', '�RB�K', 'PR', 'SURREY',\n",
       "       'Northern Mariana Islands', 'SEE QUESTION 2', 'SEOUL',\n",
       "       'MANNHEIM, BADEN-W�RTTEMBERG', 'ROTTERDAM', 'N-BRABANT',\n",
       "       'BRITISH COLUMBIA, CANADA', 'HESSEN', 'NOYB',\n",
       "       'NY, TOMPKINS COUNTY', 'NSW', 'SHANGHAI, CHANG NING DISTRICT',\n",
       "       'HONG KONG', 'TREE TOWN, USA', 'NEWFOUNDLAND AND LABRADOR',\n",
       "       'OSHAWA, ONTARIO, CANADA', 'NL', 'QU�BEC', 'ORANGE COUNTY, CA',\n",
       "       'MUNSTER', 'RAPPAHANNOCK COUNTY, VA', 'Stockholm',\n",
       "       'NORTHAMPTON COUNTY, PA', 'PA.   NORTHAMPTON COUNTY'], dtype=object)"
      ]
     },
     "execution_count": 33,
     "metadata": {},
     "output_type": "execute_result"
    }
   ],
   "source": [
    "df['Q5: STATE, PROVINCE, COUNTY, ETC'].unique()"
   ]
  },
  {
   "cell_type": "code",
   "execution_count": 34,
   "id": "appreciated-destiny",
   "metadata": {},
   "outputs": [],
   "source": [
    "rational = ['Alabama', 'Alaska', 'American Samoa', 'Arizona', 'Arkansas', 'California', 'Colorado', 'Connecticut', 'Delaware', 'District of Columbia', 'Florida', 'Georgia', 'Guam', 'Hawaii', 'Idaho', 'Illinois', 'Indiana', 'Iowa', 'Kansas', 'Kentucky', 'Louisiana', 'Maine', 'Maryland', 'Massachusetts', 'Michigan', 'Minnesota', 'Minor Outlying Islands', 'Mississippi', 'Missouri', 'Montana', 'Nebraska', 'Nevada', 'New Hampshire', 'New Jersey', 'New Mexico', 'New York', 'North Carolina', 'North Dakota', 'Northern Mariana Islands', 'Ohio', 'Oklahoma', 'Oregon', 'Pennsylvania', 'Puerto Rico', 'Rhode Island', 'South Carolina', 'South Dakota', 'Tennessee', 'Texas', 'U.S. Virgin Islands', 'Utah', 'Vermont', 'Virginia', 'Washington', 'West Virginia', 'Wisconsin', 'Wyoming'\n",
    "           , 'Abu Dhabi', 'GREATER MANCHESTER', 'SEOUL', 'Stockholm']\n",
    "inconsistent_categories = set(df['Q5: STATE, PROVINCE, COUNTY, ETC']).difference(rational)"
   ]
  },
  {
   "cell_type": "code",
   "execution_count": 35,
   "id": "indie-module",
   "metadata": {},
   "outputs": [],
   "source": [
    "inconsistent_rows = df['Q5: STATE, PROVINCE, COUNTY, ETC'].isin(inconsistent_categories)\n",
    "inconsistent_data = df[inconsistent_rows]\n",
    "# Drop inconsistent categories and get consistent data only\n",
    "df = df[~inconsistent_rows]"
   ]
  },
  {
   "cell_type": "code",
   "execution_count": 36,
   "id": "laden-teacher",
   "metadata": {
    "scrolled": true
   },
   "outputs": [
    {
     "data": {
      "text/plain": [
       "array(['New Mexico', 'Washington', 'Louisiana', 'Virginia', 'Oregon',\n",
       "       'Arkansas', 'Texas', 'Nebraska', 'Idaho', 'New Jersey',\n",
       "       'District of Columbia', 'Massachusetts', 'Rhode Island',\n",
       "       'Abu Dhabi', 'Tennessee', 'Kansas', 'Michigan', 'Kentucky',\n",
       "       'Vermont', 'Utah', 'Montana', 'New Hampshire', 'Oklahoma',\n",
       "       'GREATER MANCHESTER', 'West Virginia', 'Mississippi',\n",
       "       'Northern Mariana Islands', 'SEOUL', 'Stockholm'], dtype=object)"
      ]
     },
     "execution_count": 36,
     "metadata": {},
     "output_type": "execute_result"
    }
   ],
   "source": [
    "df['Q5: STATE, PROVINCE, COUNTY, ETC'].unique()"
   ]
  },
  {
   "cell_type": "code",
   "execution_count": 37,
   "id": "perfect-guest",
   "metadata": {},
   "outputs": [
    {
     "data": {
      "text/html": [
       "<div>\n",
       "<style scoped>\n",
       "    .dataframe tbody tr th:only-of-type {\n",
       "        vertical-align: middle;\n",
       "    }\n",
       "\n",
       "    .dataframe tbody tr th {\n",
       "        vertical-align: top;\n",
       "    }\n",
       "\n",
       "    .dataframe thead th {\n",
       "        text-align: right;\n",
       "    }\n",
       "</style>\n",
       "<table border=\"1\" class=\"dataframe\">\n",
       "  <thead>\n",
       "    <tr style=\"text-align: right;\">\n",
       "      <th></th>\n",
       "      <th>Internal ID</th>\n",
       "      <th>Q1: GOING OUT?</th>\n",
       "      <th>Q2: GENDER</th>\n",
       "      <th>Q3: AGE</th>\n",
       "      <th>Q4: COUNTRY</th>\n",
       "      <th>Q5: STATE, PROVINCE, COUNTY, ETC</th>\n",
       "      <th>Q6 | 100 Grand Bar</th>\n",
       "      <th>Q6 | Anonymous brown globs that come in black and orange wrappers\\t(a.k.a. Mary Janes)</th>\n",
       "      <th>Q6 | Any full-sized candy bar</th>\n",
       "      <th>Q6 | Black Jacks</th>\n",
       "      <th>...</th>\n",
       "      <th>Q9: OTHER COMMENTS</th>\n",
       "      <th>Q10: DRESS</th>\n",
       "      <th>Unnamed: 113</th>\n",
       "      <th>Q11: DAY</th>\n",
       "      <th>Q12: MEDIA [Daily Dish]</th>\n",
       "      <th>Q12: MEDIA [Science]</th>\n",
       "      <th>Q12: MEDIA [ESPN]</th>\n",
       "      <th>Q12: MEDIA [Yahoo]</th>\n",
       "      <th>Click Coordinates (x, y)</th>\n",
       "      <th>Q3: AGE intervals</th>\n",
       "    </tr>\n",
       "  </thead>\n",
       "  <tbody>\n",
       "    <tr>\n",
       "      <th>1</th>\n",
       "      <td>90272821</td>\n",
       "      <td>No</td>\n",
       "      <td>Male</td>\n",
       "      <td>44</td>\n",
       "      <td>usa</td>\n",
       "      <td>New Mexico</td>\n",
       "      <td>MEH</td>\n",
       "      <td>DESPAIR</td>\n",
       "      <td>JOY</td>\n",
       "      <td>MEH</td>\n",
       "      <td>...</td>\n",
       "      <td>Bottom line is Twix is really the only candy w...</td>\n",
       "      <td>White and gold</td>\n",
       "      <td>NaN</td>\n",
       "      <td>Sunday</td>\n",
       "      <td>NaN</td>\n",
       "      <td>1.0</td>\n",
       "      <td>NaN</td>\n",
       "      <td>NaN</td>\n",
       "      <td>(84, 25)</td>\n",
       "      <td>Adulthood</td>\n",
       "    </tr>\n",
       "    <tr>\n",
       "      <th>2</th>\n",
       "      <td>90272829</td>\n",
       "      <td>NaN</td>\n",
       "      <td>Male</td>\n",
       "      <td>49</td>\n",
       "      <td>usa</td>\n",
       "      <td>Washington</td>\n",
       "      <td>NaN</td>\n",
       "      <td>NaN</td>\n",
       "      <td>NaN</td>\n",
       "      <td>NaN</td>\n",
       "      <td>...</td>\n",
       "      <td>NaN</td>\n",
       "      <td>NaN</td>\n",
       "      <td>NaN</td>\n",
       "      <td>NaN</td>\n",
       "      <td>NaN</td>\n",
       "      <td>NaN</td>\n",
       "      <td>NaN</td>\n",
       "      <td>NaN</td>\n",
       "      <td>NaN</td>\n",
       "      <td>Adulthood</td>\n",
       "    </tr>\n",
       "    <tr>\n",
       "      <th>3</th>\n",
       "      <td>90272840</td>\n",
       "      <td>No</td>\n",
       "      <td>Male</td>\n",
       "      <td>40</td>\n",
       "      <td>usa</td>\n",
       "      <td>Louisiana</td>\n",
       "      <td>MEH</td>\n",
       "      <td>DESPAIR</td>\n",
       "      <td>JOY</td>\n",
       "      <td>MEH</td>\n",
       "      <td>...</td>\n",
       "      <td>Raisins can go to hell</td>\n",
       "      <td>White and gold</td>\n",
       "      <td>NaN</td>\n",
       "      <td>Sunday</td>\n",
       "      <td>NaN</td>\n",
       "      <td>1.0</td>\n",
       "      <td>NaN</td>\n",
       "      <td>NaN</td>\n",
       "      <td>(75, 23)</td>\n",
       "      <td>Adulthood</td>\n",
       "    </tr>\n",
       "    <tr>\n",
       "      <th>4</th>\n",
       "      <td>90272841</td>\n",
       "      <td>No</td>\n",
       "      <td>Male</td>\n",
       "      <td>23</td>\n",
       "      <td>usa</td>\n",
       "      <td>Virginia</td>\n",
       "      <td>JOY</td>\n",
       "      <td>DESPAIR</td>\n",
       "      <td>JOY</td>\n",
       "      <td>DESPAIR</td>\n",
       "      <td>...</td>\n",
       "      <td>NaN</td>\n",
       "      <td>White and gold</td>\n",
       "      <td>NaN</td>\n",
       "      <td>Friday</td>\n",
       "      <td>NaN</td>\n",
       "      <td>1.0</td>\n",
       "      <td>NaN</td>\n",
       "      <td>NaN</td>\n",
       "      <td>(70, 10)</td>\n",
       "      <td>Youth</td>\n",
       "    </tr>\n",
       "    <tr>\n",
       "      <th>6</th>\n",
       "      <td>90272853</td>\n",
       "      <td>No</td>\n",
       "      <td>Male</td>\n",
       "      <td>53</td>\n",
       "      <td>usa</td>\n",
       "      <td>Oregon</td>\n",
       "      <td>NaN</td>\n",
       "      <td>NaN</td>\n",
       "      <td>NaN</td>\n",
       "      <td>NaN</td>\n",
       "      <td>...</td>\n",
       "      <td>NaN</td>\n",
       "      <td>NaN</td>\n",
       "      <td>NaN</td>\n",
       "      <td>NaN</td>\n",
       "      <td>NaN</td>\n",
       "      <td>NaN</td>\n",
       "      <td>NaN</td>\n",
       "      <td>NaN</td>\n",
       "      <td>NaN</td>\n",
       "      <td>Adulthood</td>\n",
       "    </tr>\n",
       "    <tr>\n",
       "      <th>...</th>\n",
       "      <td>...</td>\n",
       "      <td>...</td>\n",
       "      <td>...</td>\n",
       "      <td>...</td>\n",
       "      <td>...</td>\n",
       "      <td>...</td>\n",
       "      <td>...</td>\n",
       "      <td>...</td>\n",
       "      <td>...</td>\n",
       "      <td>...</td>\n",
       "      <td>...</td>\n",
       "      <td>...</td>\n",
       "      <td>...</td>\n",
       "      <td>...</td>\n",
       "      <td>...</td>\n",
       "      <td>...</td>\n",
       "      <td>...</td>\n",
       "      <td>...</td>\n",
       "      <td>...</td>\n",
       "      <td>...</td>\n",
       "      <td>...</td>\n",
       "    </tr>\n",
       "    <tr>\n",
       "      <th>2455</th>\n",
       "      <td>90314359</td>\n",
       "      <td>No</td>\n",
       "      <td>Male</td>\n",
       "      <td>24</td>\n",
       "      <td>usa</td>\n",
       "      <td>Massachusetts</td>\n",
       "      <td>JOY</td>\n",
       "      <td>DESPAIR</td>\n",
       "      <td>MEH</td>\n",
       "      <td>DESPAIR</td>\n",
       "      <td>...</td>\n",
       "      <td>NaN</td>\n",
       "      <td>White and gold</td>\n",
       "      <td>NaN</td>\n",
       "      <td>Friday</td>\n",
       "      <td>NaN</td>\n",
       "      <td>NaN</td>\n",
       "      <td>NaN</td>\n",
       "      <td>NaN</td>\n",
       "      <td>NaN</td>\n",
       "      <td>Youth</td>\n",
       "    </tr>\n",
       "    <tr>\n",
       "      <th>2456</th>\n",
       "      <td>90314580</td>\n",
       "      <td>No</td>\n",
       "      <td>Female</td>\n",
       "      <td>33</td>\n",
       "      <td>usa</td>\n",
       "      <td>Nebraska</td>\n",
       "      <td>MEH</td>\n",
       "      <td>DESPAIR</td>\n",
       "      <td>JOY</td>\n",
       "      <td>NaN</td>\n",
       "      <td>...</td>\n",
       "      <td>NaN</td>\n",
       "      <td>Blue and black</td>\n",
       "      <td>NaN</td>\n",
       "      <td>Friday</td>\n",
       "      <td>NaN</td>\n",
       "      <td>1.0</td>\n",
       "      <td>NaN</td>\n",
       "      <td>NaN</td>\n",
       "      <td>(70, 26)</td>\n",
       "      <td>Adulthood</td>\n",
       "    </tr>\n",
       "    <tr>\n",
       "      <th>2457</th>\n",
       "      <td>90314634</td>\n",
       "      <td>No</td>\n",
       "      <td>Female</td>\n",
       "      <td>26</td>\n",
       "      <td>usa</td>\n",
       "      <td>Nebraska</td>\n",
       "      <td>MEH</td>\n",
       "      <td>DESPAIR</td>\n",
       "      <td>JOY</td>\n",
       "      <td>DESPAIR</td>\n",
       "      <td>...</td>\n",
       "      <td>NaN</td>\n",
       "      <td>Blue and black</td>\n",
       "      <td>NaN</td>\n",
       "      <td>Friday</td>\n",
       "      <td>NaN</td>\n",
       "      <td>1.0</td>\n",
       "      <td>NaN</td>\n",
       "      <td>NaN</td>\n",
       "      <td>(67, 35)</td>\n",
       "      <td>Adulthood</td>\n",
       "    </tr>\n",
       "    <tr>\n",
       "      <th>2458</th>\n",
       "      <td>90314658</td>\n",
       "      <td>No</td>\n",
       "      <td>Male</td>\n",
       "      <td>58</td>\n",
       "      <td>usa</td>\n",
       "      <td>Arkansas</td>\n",
       "      <td>NaN</td>\n",
       "      <td>NaN</td>\n",
       "      <td>NaN</td>\n",
       "      <td>NaN</td>\n",
       "      <td>...</td>\n",
       "      <td>NaN</td>\n",
       "      <td>NaN</td>\n",
       "      <td>NaN</td>\n",
       "      <td>NaN</td>\n",
       "      <td>NaN</td>\n",
       "      <td>NaN</td>\n",
       "      <td>NaN</td>\n",
       "      <td>NaN</td>\n",
       "      <td>NaN</td>\n",
       "      <td>Adulthood</td>\n",
       "    </tr>\n",
       "    <tr>\n",
       "      <th>2459</th>\n",
       "      <td>90314802</td>\n",
       "      <td>No</td>\n",
       "      <td>Female</td>\n",
       "      <td>66</td>\n",
       "      <td>usa</td>\n",
       "      <td>Washington</td>\n",
       "      <td>DESPAIR</td>\n",
       "      <td>DESPAIR</td>\n",
       "      <td>JOY</td>\n",
       "      <td>DESPAIR</td>\n",
       "      <td>...</td>\n",
       "      <td>You hit all my chocolate highlights, and broug...</td>\n",
       "      <td>White and gold</td>\n",
       "      <td>NaN</td>\n",
       "      <td>Sunday</td>\n",
       "      <td>1.0</td>\n",
       "      <td>NaN</td>\n",
       "      <td>NaN</td>\n",
       "      <td>NaN</td>\n",
       "      <td>(19, 26)</td>\n",
       "      <td>Seniority</td>\n",
       "    </tr>\n",
       "  </tbody>\n",
       "</table>\n",
       "<p>2218 rows × 121 columns</p>\n",
       "</div>"
      ],
      "text/plain": [
       "      Internal ID Q1: GOING OUT? Q2: GENDER  Q3: AGE Q4: COUNTRY  \\\n",
       "1        90272821             No       Male       44         usa   \n",
       "2        90272829            NaN       Male       49         usa   \n",
       "3        90272840             No       Male       40         usa   \n",
       "4        90272841             No       Male       23         usa   \n",
       "6        90272853             No       Male       53         usa   \n",
       "...           ...            ...        ...      ...         ...   \n",
       "2455     90314359             No       Male       24         usa   \n",
       "2456     90314580             No     Female       33         usa   \n",
       "2457     90314634             No     Female       26         usa   \n",
       "2458     90314658             No       Male       58         usa   \n",
       "2459     90314802             No     Female       66         usa   \n",
       "\n",
       "     Q5: STATE, PROVINCE, COUNTY, ETC Q6 | 100 Grand Bar  \\\n",
       "1                          New Mexico                MEH   \n",
       "2                          Washington                NaN   \n",
       "3                           Louisiana                MEH   \n",
       "4                            Virginia                JOY   \n",
       "6                              Oregon                NaN   \n",
       "...                               ...                ...   \n",
       "2455                    Massachusetts                JOY   \n",
       "2456                         Nebraska                MEH   \n",
       "2457                         Nebraska                MEH   \n",
       "2458                         Arkansas                NaN   \n",
       "2459                       Washington            DESPAIR   \n",
       "\n",
       "     Q6 | Anonymous brown globs that come in black and orange wrappers\\t(a.k.a. Mary Janes)  \\\n",
       "1                                               DESPAIR                                       \n",
       "2                                                   NaN                                       \n",
       "3                                               DESPAIR                                       \n",
       "4                                               DESPAIR                                       \n",
       "6                                                   NaN                                       \n",
       "...                                                 ...                                       \n",
       "2455                                            DESPAIR                                       \n",
       "2456                                            DESPAIR                                       \n",
       "2457                                            DESPAIR                                       \n",
       "2458                                                NaN                                       \n",
       "2459                                            DESPAIR                                       \n",
       "\n",
       "     Q6 | Any full-sized candy bar Q6 | Black Jacks  ...  \\\n",
       "1                              JOY              MEH  ...   \n",
       "2                              NaN              NaN  ...   \n",
       "3                              JOY              MEH  ...   \n",
       "4                              JOY          DESPAIR  ...   \n",
       "6                              NaN              NaN  ...   \n",
       "...                            ...              ...  ...   \n",
       "2455                           MEH          DESPAIR  ...   \n",
       "2456                           JOY              NaN  ...   \n",
       "2457                           JOY          DESPAIR  ...   \n",
       "2458                           NaN              NaN  ...   \n",
       "2459                           JOY          DESPAIR  ...   \n",
       "\n",
       "                                     Q9: OTHER COMMENTS      Q10: DRESS  \\\n",
       "1     Bottom line is Twix is really the only candy w...  White and gold   \n",
       "2                                                   NaN             NaN   \n",
       "3                                Raisins can go to hell  White and gold   \n",
       "4                                                   NaN  White and gold   \n",
       "6                                                   NaN             NaN   \n",
       "...                                                 ...             ...   \n",
       "2455                                                NaN  White and gold   \n",
       "2456                                                NaN  Blue and black   \n",
       "2457                                                NaN  Blue and black   \n",
       "2458                                                NaN             NaN   \n",
       "2459  You hit all my chocolate highlights, and broug...  White and gold   \n",
       "\n",
       "     Unnamed: 113 Q11: DAY Q12: MEDIA [Daily Dish] Q12: MEDIA [Science]  \\\n",
       "1             NaN   Sunday                     NaN                  1.0   \n",
       "2             NaN      NaN                     NaN                  NaN   \n",
       "3             NaN   Sunday                     NaN                  1.0   \n",
       "4             NaN   Friday                     NaN                  1.0   \n",
       "6             NaN      NaN                     NaN                  NaN   \n",
       "...           ...      ...                     ...                  ...   \n",
       "2455          NaN   Friday                     NaN                  NaN   \n",
       "2456          NaN   Friday                     NaN                  1.0   \n",
       "2457          NaN   Friday                     NaN                  1.0   \n",
       "2458          NaN      NaN                     NaN                  NaN   \n",
       "2459          NaN   Sunday                     1.0                  NaN   \n",
       "\n",
       "     Q12: MEDIA [ESPN] Q12: MEDIA [Yahoo] Click Coordinates (x, y)  \\\n",
       "1                  NaN                NaN                 (84, 25)   \n",
       "2                  NaN                NaN                      NaN   \n",
       "3                  NaN                NaN                 (75, 23)   \n",
       "4                  NaN                NaN                 (70, 10)   \n",
       "6                  NaN                NaN                      NaN   \n",
       "...                ...                ...                      ...   \n",
       "2455               NaN                NaN                      NaN   \n",
       "2456               NaN                NaN                 (70, 26)   \n",
       "2457               NaN                NaN                 (67, 35)   \n",
       "2458               NaN                NaN                      NaN   \n",
       "2459               NaN                NaN                 (19, 26)   \n",
       "\n",
       "     Q3: AGE intervals  \n",
       "1            Adulthood  \n",
       "2            Adulthood  \n",
       "3            Adulthood  \n",
       "4                Youth  \n",
       "6            Adulthood  \n",
       "...                ...  \n",
       "2455             Youth  \n",
       "2456         Adulthood  \n",
       "2457         Adulthood  \n",
       "2458         Adulthood  \n",
       "2459         Seniority  \n",
       "\n",
       "[2218 rows x 121 columns]"
      ]
     },
     "execution_count": 37,
     "metadata": {},
     "output_type": "execute_result"
    }
   ],
   "source": [
    "df"
   ]
  },
  {
   "cell_type": "code",
   "execution_count": 38,
   "id": "typical-majority",
   "metadata": {},
   "outputs": [],
   "source": [
    "df['newspaper'] = df['Q12: MEDIA [Daily Dish]']"
   ]
  },
  {
   "cell_type": "code",
   "execution_count": 39,
   "id": "entertaining-animal",
   "metadata": {},
   "outputs": [
    {
     "data": {
      "text/plain": [
       "41      1.0\n",
       "77      1.0\n",
       "109     1.0\n",
       "123     1.0\n",
       "203     1.0\n",
       "       ... \n",
       "2384    1.0\n",
       "2399    1.0\n",
       "2427    1.0\n",
       "2433    1.0\n",
       "2459    1.0\n",
       "Name: Q12: MEDIA [Daily Dish], Length: 79, dtype: float64"
      ]
     },
     "execution_count": 39,
     "metadata": {},
     "output_type": "execute_result"
    }
   ],
   "source": [
    "df.loc[df['Q12: MEDIA [Daily Dish]'] == 1, 'Q12: MEDIA [Daily Dish]']"
   ]
  },
  {
   "cell_type": "code",
   "execution_count": 40,
   "id": "grand-generation",
   "metadata": {},
   "outputs": [
    {
     "data": {
      "text/plain": [
       "1       1.0\n",
       "3       1.0\n",
       "4       1.0\n",
       "7       1.0\n",
       "8       1.0\n",
       "       ... \n",
       "2443    1.0\n",
       "2444    1.0\n",
       "2454    1.0\n",
       "2456    1.0\n",
       "2457    1.0\n",
       "Name: Q12: MEDIA [Science], Length: 1263, dtype: float64"
      ]
     },
     "execution_count": 40,
     "metadata": {},
     "output_type": "execute_result"
    }
   ],
   "source": [
    "df.loc[df['Q12: MEDIA [Science]'] == 1, 'Q12: MEDIA [Science]']"
   ]
  },
  {
   "cell_type": "code",
   "execution_count": 41,
   "id": "stock-folder",
   "metadata": {},
   "outputs": [
    {
     "data": {
      "text/plain": [
       "68      1.0\n",
       "91      1.0\n",
       "101     1.0\n",
       "165     1.0\n",
       "179     1.0\n",
       "       ... \n",
       "2308    1.0\n",
       "2353    1.0\n",
       "2356    1.0\n",
       "2366    1.0\n",
       "2407    1.0\n",
       "Name: Q12: MEDIA [ESPN], Length: 92, dtype: float64"
      ]
     },
     "execution_count": 41,
     "metadata": {},
     "output_type": "execute_result"
    }
   ],
   "source": [
    "df.loc[df['Q12: MEDIA [ESPN]'] == 1, 'Q12: MEDIA [ESPN]']"
   ]
  },
  {
   "cell_type": "code",
   "execution_count": 42,
   "id": "representative-packing",
   "metadata": {},
   "outputs": [
    {
     "data": {
      "text/plain": [
       "56      1.0\n",
       "69      1.0\n",
       "153     1.0\n",
       "198     1.0\n",
       "255     1.0\n",
       "       ... \n",
       "2215    1.0\n",
       "2329    1.0\n",
       "2359    1.0\n",
       "2398    1.0\n",
       "2434    1.0\n",
       "Name: Q12: MEDIA [Yahoo], Length: 61, dtype: float64"
      ]
     },
     "execution_count": 42,
     "metadata": {},
     "output_type": "execute_result"
    }
   ],
   "source": [
    "df.loc[df['Q12: MEDIA [Yahoo]'] == 1, 'Q12: MEDIA [Yahoo]']"
   ]
  },
  {
   "cell_type": "code",
   "execution_count": 43,
   "id": "metallic-motel",
   "metadata": {},
   "outputs": [],
   "source": [
    "for i in range(df.shape[0]):\n",
    "    if df.iloc[i,  df.columns.get_loc(\"Q12: MEDIA [Daily Dish]\")] == 1:\n",
    "        df.iloc[i,  df.columns.get_loc(\"newspaper\")] = 1\n",
    "    elif df.iloc[i,  df.columns.get_loc(\"Q12: MEDIA [Science]\")] == 1:\n",
    "        df.iloc[i,  df.columns.get_loc(\"newspaper\")] = 2\n",
    "    elif df.iloc[i,  df.columns.get_loc(\"Q12: MEDIA [ESPN]\")] == 1:\n",
    "        df.iloc[i,  df.columns.get_loc(\"newspaper\")] = 3\n",
    "    elif df.iloc[i,  df.columns.get_loc(\"Q12: MEDIA [Yahoo]\")] == 1:\n",
    "        df.iloc[i,  df.columns.get_loc(\"newspaper\")] = 4        \n",
    "#adding all values to one column"
   ]
  },
  {
   "cell_type": "code",
   "execution_count": 44,
   "id": "spiritual-plaza",
   "metadata": {},
   "outputs": [
    {
     "data": {
      "text/plain": [
       "2.0    1263\n",
       "3.0      92\n",
       "1.0      79\n",
       "4.0      61\n",
       "Name: newspaper, dtype: int64"
      ]
     },
     "execution_count": 44,
     "metadata": {},
     "output_type": "execute_result"
    }
   ],
   "source": [
    "df['newspaper'].value_counts()"
   ]
  },
  {
   "cell_type": "code",
   "execution_count": 45,
   "id": "roman-saudi",
   "metadata": {},
   "outputs": [],
   "source": [
    "mapping = {1: 'Daily Dish', 2: 'Science', 3: 'ESPN', 4: 'Yahoo'}\n",
    "df['newspaper'] = df['newspaper'].replace(mapping)\n",
    "#mapping the values to the name of the newspaper"
   ]
  },
  {
   "cell_type": "code",
   "execution_count": 46,
   "id": "biological-forest",
   "metadata": {},
   "outputs": [
    {
     "data": {
      "text/plain": [
       "Science       1263\n",
       "ESPN            92\n",
       "Daily Dish      79\n",
       "Yahoo           61\n",
       "Name: newspaper, dtype: int64"
      ]
     },
     "execution_count": 46,
     "metadata": {},
     "output_type": "execute_result"
    }
   ],
   "source": [
    "df['newspaper'].value_counts()"
   ]
  },
  {
   "cell_type": "code",
   "execution_count": 47,
   "id": "therapeutic-indian",
   "metadata": {},
   "outputs": [],
   "source": [
    "###########################################################################################################################\n",
    "#visualising clean data"
   ]
  },
  {
   "cell_type": "code",
   "execution_count": 48,
   "id": "proof-trademark",
   "metadata": {},
   "outputs": [
    {
     "data": {
      "image/png": "[encoded data removed]",
      "text/plain": [
       "<Figure size 432x288 with 1 Axes>"
      ]
     },
     "metadata": {
      "needs_background": "light"
     },
     "output_type": "display_data"
    }
   ],
   "source": [
    "sns.countplot(x=df['Q2: GENDER'])\n",
    "plt.show()"
   ]
  },
  {
   "cell_type": "code",
   "execution_count": 52,
   "id": "happy-saturday",
   "metadata": {
    "scrolled": true
   },
   "outputs": [
    {
     "data": {
      "image/png": "[encoded data removed]",
      "text/plain": [
       "<Figure size 455.75x360 with 1 Axes>"
      ]
     },
     "metadata": {
      "needs_background": "light"
     },
     "output_type": "display_data"
    }
   ],
   "source": [
    "sns.catplot(x=\"Q2: GENDER\",\n",
    "data=df, \n",
    "hue = \"Q3: AGE intervals\",\n",
    "kind = 'count')\n",
    "plt.show()"
   ]
  },
  {
   "cell_type": "code",
   "execution_count": 53,
   "id": "egyptian-priest",
   "metadata": {},
   "outputs": [
    {
     "data": {
      "image/png": "[encoded data removed]",
      "text/plain": [
       "<Figure size 360x360 with 1 Axes>"
      ]
     },
     "metadata": {
      "needs_background": "light"
     },
     "output_type": "display_data"
    }
   ],
   "source": [
    "sns.catplot(x=\"Q2: GENDER\",\n",
    "y=\"Q3: AGE\",\n",
    "data=df,\n",
    "kind=\"bar\")\n",
    "plt.show()"
   ]
  },
  {
   "cell_type": "code",
   "execution_count": 55,
   "id": "perfect-combine",
   "metadata": {},
   "outputs": [
    {
     "data": {
      "image/png": "[encoded data removed]",
      "text/plain": [
       "<Figure size 481.75x360 with 1 Axes>"
      ]
     },
     "metadata": {
      "needs_background": "light"
     },
     "output_type": "display_data"
    }
   ],
   "source": [
    "g = sns.catplot(x=\"newspaper\",\n",
    "y=\"Q3: AGE\",\n",
    "data=df,\n",
    "hue = \"Q2: GENDER\",\n",
    "kind=\"box\")\n",
    "plt.show()"
   ]
  },
  {
   "cell_type": "code",
   "execution_count": 56,
   "id": "funky-price",
   "metadata": {},
   "outputs": [
    {
     "data": {
      "image/png": "[encoded data removed]",
      "text/plain": [
       "<Figure size 481.75x360 with 1 Axes>"
      ]
     },
     "metadata": {
      "needs_background": "light"
     },
     "output_type": "display_data"
    }
   ],
   "source": [
    "sns.catplot(x=\"Q11: DAY\",\n",
    "y=\"Q3: AGE\",\n",
    "data=df,\n",
    "hue=\"Q2: GENDER\",\n",
    "kind=\"point\")\n",
    "plt.show()"
   ]
  },
  {
   "cell_type": "code",
   "execution_count": 58,
   "id": "tribal-terrorist",
   "metadata": {},
   "outputs": [
    {
     "data": {
      "image/png": "[encoded data removed]",
      "text/plain": [
       "<Figure size 481.75x360 with 1 Axes>"
      ]
     },
     "metadata": {
      "needs_background": "light"
     },
     "output_type": "display_data"
    }
   ],
   "source": [
    "sns.catplot(x=\"Q1: GOING OUT?\",\n",
    "data=df,\n",
    "hue=\"Q2: GENDER\",\n",
    "kind=\"count\")\n",
    "plt.show()"
   ]
  },
  {
   "cell_type": "code",
   "execution_count": 64,
   "id": "rural-auction",
   "metadata": {},
   "outputs": [
    {
     "data": {
      "image/png": "[encoded data removed]",
      "text/plain": [
       "<Figure size 481.75x360 with 1 Axes>"
      ]
     },
     "metadata": {
      "needs_background": "light"
     },
     "output_type": "display_data"
    }
   ],
   "source": [
    "sns.catplot(x=\"Q10: DRESS\",\n",
    "y = \"Q3: AGE\",\n",
    "data=df,\n",
    "hue=\"Q2: GENDER\",\n",
    "kind=\"point\",\n",
    "ci = None)\n",
    "plt.show()"
   ]
  },
  {
   "cell_type": "code",
   "execution_count": 65,
   "id": "martial-citation",
   "metadata": {},
   "outputs": [
    {
     "data": {
      "image/png": "[encoded data removed]",
      "text/plain": [
       "<Figure size 470.625x360 with 1 Axes>"
      ]
     },
     "metadata": {},
     "output_type": "display_data"
    }
   ],
   "source": [
    "sns.set_style(\"whitegrid\") \n",
    "sns.catplot(x=\"Q6 | Kale smoothie\",\n",
    "y = \"Q3: AGE\",\n",
    "data=df,\n",
    "hue=\"Q2: GENDER\",\n",
    "kind=\"point\",\n",
    "ci = None)\n",
    "plt.show()"
   ]
  },
  {
   "cell_type": "code",
   "execution_count": 75,
   "id": "racial-cleaner",
   "metadata": {},
   "outputs": [
    {
     "data": {
      "image/png": "[encoded data removed]",
      "text/plain": [
       "<Figure size 1440x360 with 4 Axes>"
      ]
     },
     "metadata": {},
     "output_type": "display_data"
    }
   ],
   "source": [
    "sns.set_style(\"whitegrid\") \n",
    "sns.catplot(x=\"Q6 | Hershey's Dark Chocolate\",\n",
    "data=df,\n",
    "col=\"Q3: AGE intervals\",\n",
    "kind=\"count\",\n",
    "ci = None)\n",
    "plt.show()"
   ]
  },
  {
   "cell_type": "code",
   "execution_count": 78,
   "id": "vital-andrews",
   "metadata": {},
   "outputs": [
    {
     "data": {
      "image/png": "[encoded data removed]",
      "text/plain": [
       "<Figure size 360x1440 with 4 Axes>"
      ]
     },
     "metadata": {},
     "output_type": "display_data"
    }
   ],
   "source": [
    "sns.set_style(\"dark\")\n",
    "sns.catplot(x=\"Q6 | Senior Mints\",\n",
    "data=df,\n",
    "row=\"Q3: AGE intervals\",\n",
    "kind=\"count\",\n",
    "ci = None)\n",
    "plt.show()"
   ]
  },
  {
   "cell_type": "code",
   "execution_count": 81,
   "id": "loved-sixth",
   "metadata": {},
   "outputs": [
    {
     "data": {
      "image/png": "[encoded data removed]",
      "text/plain": [
       "<Figure size 470.625x360 with 1 Axes>"
      ]
     },
     "metadata": {},
     "output_type": "display_data"
    }
   ],
   "source": [
    "sns.set_style(\"darkgrid\")\n",
    "sns.set_palette(\"RdBu\")\n",
    "sns.catplot(x=\"Q6 | Licorice (not black)\",\n",
    "data=df,\n",
    "hue=\"Q2: GENDER\",\n",
    "kind=\"count\",\n",
    "ci = None)\n",
    "plt.show()"
   ]
  },
  {
   "cell_type": "code",
   "execution_count": 84,
   "id": "annual-score",
   "metadata": {},
   "outputs": [
    {
     "data": {
      "image/png": "[encoded data removed]",
      "text/plain": [
       "<Figure size 505.875x360 with 1 Axes>"
      ]
     },
     "metadata": {},
     "output_type": "display_data"
    }
   ],
   "source": [
    "sns.catplot(x=\"Q6 | Bonkers (the candy)\",\n",
    "hue=\"Q6 | Bonkers (the board game)\",\n",
    "data=df,\n",
    "kind=\"count\")\n",
    "plt.show()"
   ]
  },
  {
   "cell_type": "code",
   "execution_count": null,
   "id": "animal-style",
   "metadata": {},
   "outputs": [],
   "source": []
  }
 ],
 "metadata": {
  "kernelspec": {
   "display_name": "Python 3",
   "language": "python",
   "name": "python3"
  },
  "language_info": {
   "codemirror_mode": {
    "name": "ipython",
    "version": 3
   },
   "file_extension": ".py",
   "mimetype": "text/x-python",
   "name": "python",
   "nbconvert_exporter": "python",
   "pygments_lexer": "ipython3",
   "version": "3.9.0"
  }
 },
 "nbformat": 4,
 "nbformat_minor": 5
}
